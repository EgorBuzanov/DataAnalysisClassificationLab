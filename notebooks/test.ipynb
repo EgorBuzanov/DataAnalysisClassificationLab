{
 "cells": [
  {
   "cell_type": "code",
   "execution_count": 1,
   "metadata": {},
   "outputs": [],
   "source": [
    "import pandas as pd\n",
    "import matplotlib.pyplot as plt\n",
    "import numpy as np\n",
    "import sys\n",
    "import os"
   ]
  },
  {
   "cell_type": "code",
   "execution_count": 9,
   "metadata": {},
   "outputs": [],
   "source": [
    "raw_path = os.path.join(os.path.dirname(os.path.abspath('')), \"data/raw\")\n",
    "train = pd.read_csv(os.path.join(raw_path, \"train.csv\"))\n",
    "test = pd.read_csv(os.path.join(raw_path, \"test.csv\"))"
   ]
  },
  {
   "cell_type": "code",
   "execution_count": 30,
   "metadata": {},
   "outputs": [],
   "source": [
    "TARGET_COLS = ['Артериальная гипертензия', 'ОНМК', 'Стенокардия, ИБС, инфаркт миокарда', 'Сердечная недостаточность', 'Прочие заболевания сердца']\n",
    "ID_COL = 'ID'\n",
    "UNNECESSARY_ID = 'ID_y'\n",
    "EDU_COL = 'Образование'\n",
    "SEX_COL = 'Пол'\n",
    "CAT_COLS = [\n",
    "    'Пол', 'Семья', 'Этнос', 'Национальность', 'Религия', 'Образование', \n",
    "    'Профессия', 'Статус Курения', 'Частота пасс кур', 'Алкоголь',\n",
    "    'Время засыпания', 'Время пробуждения'\n",
    "]\n",
    "OHE_COLS = [\n",
    "    'Вы работаете?', 'Выход на пенсию', 'Прекращение работы по болезни', 'Сахарный диабет', 'Гепатит',\n",
    "    'Онкология', 'Хроническое заболевание легких', 'Бронжиальная астма', 'Туберкулез легких ', 'ВИЧ/СПИД',\n",
    "    'Регулярный прим лекарственных средств', 'Травмы за год', 'Переломы','Пассивное курение', 'Сон после обеда', \n",
    "    'Спорт, клубы', 'Религия, клубы'\n",
    "]\n",
    "REAL_COLS = ['Возраст курения', 'Сигарет в день', 'Возраст алког']"
   ]
  },
  {
   "cell_type": "code",
   "execution_count": 28,
   "metadata": {},
   "outputs": [],
   "source": [
    "def set_idx(df : pd.DataFrame, idx_col : str) -> pd.DataFrame:\n",
    "    return df.set_index(idx_col)"
   ]
  },
  {
   "cell_type": "code",
   "execution_count": 22,
   "metadata": {},
   "outputs": [],
   "source": [
    "def drop_col(df : pd.DataFrame, colname : str) -> pd.DataFrame:\n",
    "    return df.drop(colname, axis=1) if colname in df.columns else df"
   ]
  },
  {
   "cell_type": "code",
   "execution_count": 23,
   "metadata": {},
   "outputs": [],
   "source": [
    "def fill_sex(df: pd.DataFrame) -> pd.DataFrame:\n",
    "    most_freq = df[SEX_COL].value_counts().index[0]\n",
    "    df[SEX_COL] = df[SEX_COL].fillna(most_freq)\n",
    "    return df"
   ]
  },
  {
   "cell_type": "code",
   "execution_count": 24,
   "metadata": {},
   "outputs": [],
   "source": [
    "def cast_types(df: pd.DataFrame) -> pd.DataFrame:\n",
    "    df[CAT_COLS] = df[CAT_COLS].astype('category')\n",
    "\n",
    "    ohe_int_cols = train[OHE_COLS].select_dtypes('number').columns\n",
    "    df[ohe_int_cols] = df[ohe_int_cols].astype(np.int8)\n",
    "\n",
    "    df[REAL_COLS] = df[REAL_COLS].astype(np.float32)\n",
    "    return df"
   ]
  },
  {
   "cell_type": "code",
   "execution_count": 25,
   "metadata": {},
   "outputs": [],
   "source": [
    "def preprocess(df: pd.DataFrame) -> pd.DataFrame:\n",
    "    df = set_idx(df, ID_COL)\n",
    "    df = drop_col(df, UNNECESSARY_ID)\n",
    "    df = fill_sex(df)\n",
    "    df = cast_types(df)\n",
    "    return df"
   ]
  },
  {
   "cell_type": "code",
   "execution_count": 31,
   "metadata": {},
   "outputs": [],
   "source": [
    "processed_data = preprocess(train)"
   ]
  },
  {
   "cell_type": "code",
   "execution_count": 32,
   "metadata": {},
   "outputs": [
    {
     "data": {
      "text/plain": [
       "Пол                                      category\n",
       "Семья                                    category\n",
       "Этнос                                    category\n",
       "Национальность                           category\n",
       "Религия                                  category\n",
       "Образование                              category\n",
       "Профессия                                category\n",
       "Вы работаете?                                int8\n",
       "Выход на пенсию                              int8\n",
       "Прекращение работы по болезни                int8\n",
       "Сахарный диабет                              int8\n",
       "Гепатит                                      int8\n",
       "Онкология                                    int8\n",
       "Хроническое заболевание легких               int8\n",
       "Бронжиальная астма                           int8\n",
       "Туберкулез легких                            int8\n",
       "ВИЧ/СПИД                                     int8\n",
       "Регулярный прим лекарственных средств        int8\n",
       "Травмы за год                                int8\n",
       "Переломы                                     int8\n",
       "Статус Курения                           category\n",
       "Возраст курения                           float32\n",
       "Сигарет в день                            float32\n",
       "Пассивное курение                            int8\n",
       "Частота пасс кур                         category\n",
       "Алкоголь                                 category\n",
       "Возраст алког                             float32\n",
       "Время засыпания                          category\n",
       "Время пробуждения                        category\n",
       "Сон после обеда                              int8\n",
       "Спорт, клубы                                 int8\n",
       "Религия, клубы                               int8\n",
       "Артериальная гипертензия                    int64\n",
       "ОНМК                                        int64\n",
       "Стенокардия, ИБС, инфаркт миокарда          int64\n",
       "Сердечная недостаточность                   int64\n",
       "Прочие заболевания сердца                   int64\n",
       "dtype: object"
      ]
     },
     "execution_count": 32,
     "metadata": {},
     "output_type": "execute_result"
    }
   ],
   "source": [
    "processed_data.dtypes"
   ]
  },
  {
   "cell_type": "code",
   "execution_count": 1,
   "metadata": {},
   "outputs": [],
   "source": [
    "import pickle"
   ]
  },
  {
   "cell_type": "code",
   "execution_count": 2,
   "metadata": {},
   "outputs": [],
   "source": [
    "with open(\"../data/interim/train.pkl\", \"rb\") as f:\n",
    "    train = pickle.load(f)"
   ]
  },
  {
   "cell_type": "code",
   "execution_count": null,
   "metadata": {},
   "outputs": [],
   "source": []
  }
 ],
 "metadata": {
  "kernelspec": {
   "display_name": "Python 3.8.10 ('venv': venv)",
   "language": "python",
   "name": "python3"
  },
  "language_info": {
   "codemirror_mode": {
    "name": "ipython",
    "version": 3
   },
   "file_extension": ".py",
   "mimetype": "text/x-python",
   "name": "python",
   "nbconvert_exporter": "python",
   "pygments_lexer": "ipython3",
   "version": "3.8.10"
  },
  "orig_nbformat": 4,
  "vscode": {
   "interpreter": {
    "hash": "64d0687d226eb02ce9c596f53de4dfa1c653cf8449d5a55084cda4a4563a6772"
   }
  }
 },
 "nbformat": 4,
 "nbformat_minor": 2
}
