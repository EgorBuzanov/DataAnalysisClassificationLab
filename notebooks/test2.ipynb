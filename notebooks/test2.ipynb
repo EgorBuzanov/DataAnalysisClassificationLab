{
 "cells": [
  {
   "cell_type": "code",
   "execution_count": 1,
   "metadata": {},
   "outputs": [],
   "source": [
    "import pandas as pd\n",
    "import numpy as np\n",
    "import matplotlib.pyplot as plt\n",
    "import pickle\n",
    "from sklearn.svm import *\n",
    "from sklearn.model_selection import *\n",
    "from sklearn.preprocessing import *\n",
    "from sklearn.compose import *\n",
    "from sklearn.pipeline import *\n",
    "from sklearn.metrics import *\n",
    "from sklearn.impute import *\n",
    "from sklearn.neural_network import *\n",
    "from sklearn.multioutput import *\n",
    "from sklearn.ensemble import *"
   ]
  },
  {
   "cell_type": "code",
   "execution_count": 2,
   "metadata": {},
   "outputs": [],
   "source": [
    "with open(\"../data/processed/train.pkl\", \"rb\") as f:\n",
    "    train = pickle.load(f)"
   ]
  },
  {
   "cell_type": "code",
   "execution_count": 3,
   "metadata": {},
   "outputs": [],
   "source": [
    "with open(\"../data/processed/target.pkl\", \"rb\") as f:\n",
    "    target = pickle.load(f)"
   ]
  },
  {
   "cell_type": "code",
   "execution_count": 4,
   "metadata": {},
   "outputs": [],
   "source": [
    "TARGET_COLS = ['Артериальная гипертензия', 'ОНМК', 'Стенокардия, ИБС, инфаркт миокарда', 'Сердечная недостаточность', 'Прочие заболевания сердца']\n",
    "ID_COL = 'ID'\n",
    "EDU_COL = 'Образование'\n",
    "SEX_COL = 'Пол'\n",
    "CAT_COLS = [\n",
    "    'Пол', 'Семья', 'Этнос', 'Национальность', 'Религия', 'Образование', \n",
    "    'Профессия', 'Статус Курения', 'Алкоголь',\n",
    "    'Время засыпания', 'Время пробуждения'\n",
    "]\n",
    "OHE_COLS = [\n",
    "    'Вы работаете?', 'Выход на пенсию', 'Прекращение работы по болезни', 'Сахарный диабет', 'Гепатит',\n",
    "    'Онкология', 'Хроническое заболевание легких', 'Бронжиальная астма', 'Туберкулез легких ', 'ВИЧ/СПИД',\n",
    "    'Регулярный прим лекарственных средств', 'Травмы за год', 'Переломы','Пассивное курение', 'Сон после обеда', \n",
    "    'Спорт, клубы', 'Религия, клубы'\n",
    "]\n",
    "REAL_COLS = ['Возраст курения', 'Сигарет в день', 'Возраст алког', 'Частота пасс кур']"
   ]
  },
  {
   "cell_type": "code",
   "execution_count": 5,
   "metadata": {},
   "outputs": [],
   "source": [
    "train[CAT_COLS] = train[CAT_COLS].astype('object')"
   ]
  },
  {
   "cell_type": "code",
   "execution_count": 6,
   "metadata": {},
   "outputs": [],
   "source": [
    "train_data, val_data, train_target, val_target = train_test_split(train, target, train_size=0.8, random_state=42)"
   ]
  },
  {
   "cell_type": "code",
   "execution_count": 7,
   "metadata": {},
   "outputs": [],
   "source": [
    "real_pipe = Pipeline([\n",
    "    ('imputer', SimpleImputer()),\n",
    "    ('scaler', StandardScaler())\n",
    "]\n",
    ")"
   ]
  },
  {
   "cell_type": "code",
   "execution_count": 8,
   "metadata": {},
   "outputs": [],
   "source": [
    "cat_pipe = Pipeline([\n",
    "    ('imputer', SimpleImputer(strategy='constant', fill_value='NA')),\n",
    "    ('ohe', OneHotEncoder(handle_unknown='ignore', sparse=False))\n",
    "])"
   ]
  },
  {
   "cell_type": "code",
   "execution_count": 9,
   "metadata": {},
   "outputs": [],
   "source": [
    "import category_encoders as ce"
   ]
  },
  {
   "cell_type": "code",
   "execution_count": 10,
   "metadata": {},
   "outputs": [],
   "source": [
    "preprocess_pipe = ColumnTransformer(transformers=[\n",
    "    ('real_cols', real_pipe, REAL_COLS),\n",
    "    ('cat_cols', cat_pipe, CAT_COLS),\n",
    "    ('woe_cat_cols', ce.WOEEncoder(), CAT_COLS),\n",
    "    ('ohe_cols', 'passthrough', OHE_COLS)\n",
    "]\n",
    ")"
   ]
  },
  {
   "cell_type": "code",
   "execution_count": 11,
   "metadata": {},
   "outputs": [],
   "source": [
    "model_pipe = Pipeline([\n",
    "    ('preprocess', preprocess_pipe),\n",
    "    ('model', RandomForestClassifier())\n",
    "]\n",
    ")"
   ]
  },
  {
   "cell_type": "code",
   "execution_count": 12,
   "metadata": {},
   "outputs": [],
   "source": [
    "multiout_model_pipe = MultiOutputClassifier(model_pipe, n_jobs=4)"
   ]
  },
  {
   "cell_type": "code",
   "execution_count": 31,
   "metadata": {},
   "outputs": [],
   "source": [
    "fbeta_score_recall = make_scorer(fbeta_score, beta=2.0, average='micro')"
   ]
  },
  {
   "cell_type": "code",
   "execution_count": 23,
   "metadata": {},
   "outputs": [],
   "source": [
    "params = {'estimator__model__n_estimators': np.arange(10, 100, 5)}"
   ]
  },
  {
   "cell_type": "code",
   "execution_count": 32,
   "metadata": {},
   "outputs": [],
   "source": [
    "scores = RandomizedSearchCV(multiout_model_pipe, params, scoring=fbeta_score_recall, error_score='raise')"
   ]
  },
  {
   "cell_type": "code",
   "execution_count": 33,
   "metadata": {},
   "outputs": [
    {
     "data": {
      "text/html": [
       "<style>#sk-container-id-3 {color: black;background-color: white;}#sk-container-id-3 pre{padding: 0;}#sk-container-id-3 div.sk-toggleable {background-color: white;}#sk-container-id-3 label.sk-toggleable__label {cursor: pointer;display: block;width: 100%;margin-bottom: 0;padding: 0.3em;box-sizing: border-box;text-align: center;}#sk-container-id-3 label.sk-toggleable__label-arrow:before {content: \"▸\";float: left;margin-right: 0.25em;color: #696969;}#sk-container-id-3 label.sk-toggleable__label-arrow:hover:before {color: black;}#sk-container-id-3 div.sk-estimator:hover label.sk-toggleable__label-arrow:before {color: black;}#sk-container-id-3 div.sk-toggleable__content {max-height: 0;max-width: 0;overflow: hidden;text-align: left;background-color: #f0f8ff;}#sk-container-id-3 div.sk-toggleable__content pre {margin: 0.2em;color: black;border-radius: 0.25em;background-color: #f0f8ff;}#sk-container-id-3 input.sk-toggleable__control:checked~div.sk-toggleable__content {max-height: 200px;max-width: 100%;overflow: auto;}#sk-container-id-3 input.sk-toggleable__control:checked~label.sk-toggleable__label-arrow:before {content: \"▾\";}#sk-container-id-3 div.sk-estimator input.sk-toggleable__control:checked~label.sk-toggleable__label {background-color: #d4ebff;}#sk-container-id-3 div.sk-label input.sk-toggleable__control:checked~label.sk-toggleable__label {background-color: #d4ebff;}#sk-container-id-3 input.sk-hidden--visually {border: 0;clip: rect(1px 1px 1px 1px);clip: rect(1px, 1px, 1px, 1px);height: 1px;margin: -1px;overflow: hidden;padding: 0;position: absolute;width: 1px;}#sk-container-id-3 div.sk-estimator {font-family: monospace;background-color: #f0f8ff;border: 1px dotted black;border-radius: 0.25em;box-sizing: border-box;margin-bottom: 0.5em;}#sk-container-id-3 div.sk-estimator:hover {background-color: #d4ebff;}#sk-container-id-3 div.sk-parallel-item::after {content: \"\";width: 100%;border-bottom: 1px solid gray;flex-grow: 1;}#sk-container-id-3 div.sk-label:hover label.sk-toggleable__label {background-color: #d4ebff;}#sk-container-id-3 div.sk-serial::before {content: \"\";position: absolute;border-left: 1px solid gray;box-sizing: border-box;top: 0;bottom: 0;left: 50%;z-index: 0;}#sk-container-id-3 div.sk-serial {display: flex;flex-direction: column;align-items: center;background-color: white;padding-right: 0.2em;padding-left: 0.2em;position: relative;}#sk-container-id-3 div.sk-item {position: relative;z-index: 1;}#sk-container-id-3 div.sk-parallel {display: flex;align-items: stretch;justify-content: center;background-color: white;position: relative;}#sk-container-id-3 div.sk-item::before, #sk-container-id-3 div.sk-parallel-item::before {content: \"\";position: absolute;border-left: 1px solid gray;box-sizing: border-box;top: 0;bottom: 0;left: 50%;z-index: -1;}#sk-container-id-3 div.sk-parallel-item {display: flex;flex-direction: column;z-index: 1;position: relative;background-color: white;}#sk-container-id-3 div.sk-parallel-item:first-child::after {align-self: flex-end;width: 50%;}#sk-container-id-3 div.sk-parallel-item:last-child::after {align-self: flex-start;width: 50%;}#sk-container-id-3 div.sk-parallel-item:only-child::after {width: 0;}#sk-container-id-3 div.sk-dashed-wrapped {border: 1px dashed gray;margin: 0 0.4em 0.5em 0.4em;box-sizing: border-box;padding-bottom: 0.4em;background-color: white;}#sk-container-id-3 div.sk-label label {font-family: monospace;font-weight: bold;display: inline-block;line-height: 1.2em;}#sk-container-id-3 div.sk-label-container {text-align: center;}#sk-container-id-3 div.sk-container {/* jupyter's `normalize.less` sets `[hidden] { display: none; }` but bootstrap.min.css set `[hidden] { display: none !important; }` so we also need the `!important` here to be able to override the default hidden behavior on the sphinx rendered scikit-learn.org. See: https://github.com/scikit-learn/scikit-learn/issues/21755 */display: inline-block !important;position: relative;}#sk-container-id-3 div.sk-text-repr-fallback {display: none;}</style><div id=\"sk-container-id-3\" class=\"sk-top-container\"><div class=\"sk-text-repr-fallback\"><pre>RandomizedSearchCV(error_score=&#x27;raise&#x27;,\n",
       "                   estimator=MultiOutputClassifier(estimator=Pipeline(steps=[(&#x27;preprocess&#x27;,\n",
       "                                                                              ColumnTransformer(transformers=[(&#x27;real_cols&#x27;,\n",
       "                                                                                                               Pipeline(steps=[(&#x27;imputer&#x27;,\n",
       "                                                                                                                                SimpleImputer()),\n",
       "                                                                                                                               (&#x27;scaler&#x27;,\n",
       "                                                                                                                                StandardScaler())]),\n",
       "                                                                                                               [&#x27;Возраст &#x27;\n",
       "                                                                                                                &#x27;курения&#x27;,\n",
       "                                                                                                                &#x27;Сигарет &#x27;\n",
       "                                                                                                                &#x27;в &#x27;\n",
       "                                                                                                                &#x27;день&#x27;,\n",
       "                                                                                                                &#x27;Возраст &#x27;\n",
       "                                                                                                                &#x27;алког&#x27;,\n",
       "                                                                                                                &#x27;Частота &#x27;\n",
       "                                                                                                                &#x27;пасс &#x27;\n",
       "                                                                                                                &#x27;кур&#x27;]),\n",
       "                                                                                                              (&#x27;cat_cols&#x27;,\n",
       "                                                                                                               Pipeline(steps=[(&#x27;imputer&#x27;,\n",
       "                                                                                                                                Si...\n",
       "                                                                                                                &#x27;лекарственных &#x27;\n",
       "                                                                                                                &#x27;средств&#x27;,\n",
       "                                                                                                                &#x27;Травмы &#x27;\n",
       "                                                                                                                &#x27;за &#x27;\n",
       "                                                                                                                &#x27;год&#x27;,\n",
       "                                                                                                                &#x27;Переломы&#x27;,\n",
       "                                                                                                                &#x27;Пассивное &#x27;\n",
       "                                                                                                                &#x27;курение&#x27;,\n",
       "                                                                                                                &#x27;Сон &#x27;\n",
       "                                                                                                                &#x27;после &#x27;\n",
       "                                                                                                                &#x27;обеда&#x27;,\n",
       "                                                                                                                &#x27;Спорт, &#x27;\n",
       "                                                                                                                &#x27;клубы&#x27;,\n",
       "                                                                                                                &#x27;Религия, &#x27;\n",
       "                                                                                                                &#x27;клубы&#x27;])])),\n",
       "                                                                             (&#x27;model&#x27;,\n",
       "                                                                              RandomForestClassifier())]),\n",
       "                                                   n_jobs=4),\n",
       "                   param_distributions={&#x27;estimator__model__n_estimators&#x27;: array([10, 15, 20, 25, 30, 35, 40, 45, 50, 55, 60, 65, 70, 75, 80, 85, 90,\n",
       "       95])},\n",
       "                   scoring=make_scorer(fbeta_score, beta=2.0, average=micro))</pre><b>In a Jupyter environment, please rerun this cell to show the HTML representation or trust the notebook. <br />On GitHub, the HTML representation is unable to render, please try loading this page with nbviewer.org.</b></div><div class=\"sk-container\" hidden><div class=\"sk-item sk-dashed-wrapped\"><div class=\"sk-label-container\"><div class=\"sk-label sk-toggleable\"><input class=\"sk-toggleable__control sk-hidden--visually\" id=\"sk-estimator-id-31\" type=\"checkbox\" ><label for=\"sk-estimator-id-31\" class=\"sk-toggleable__label sk-toggleable__label-arrow\">RandomizedSearchCV</label><div class=\"sk-toggleable__content\"><pre>RandomizedSearchCV(error_score=&#x27;raise&#x27;,\n",
       "                   estimator=MultiOutputClassifier(estimator=Pipeline(steps=[(&#x27;preprocess&#x27;,\n",
       "                                                                              ColumnTransformer(transformers=[(&#x27;real_cols&#x27;,\n",
       "                                                                                                               Pipeline(steps=[(&#x27;imputer&#x27;,\n",
       "                                                                                                                                SimpleImputer()),\n",
       "                                                                                                                               (&#x27;scaler&#x27;,\n",
       "                                                                                                                                StandardScaler())]),\n",
       "                                                                                                               [&#x27;Возраст &#x27;\n",
       "                                                                                                                &#x27;курения&#x27;,\n",
       "                                                                                                                &#x27;Сигарет &#x27;\n",
       "                                                                                                                &#x27;в &#x27;\n",
       "                                                                                                                &#x27;день&#x27;,\n",
       "                                                                                                                &#x27;Возраст &#x27;\n",
       "                                                                                                                &#x27;алког&#x27;,\n",
       "                                                                                                                &#x27;Частота &#x27;\n",
       "                                                                                                                &#x27;пасс &#x27;\n",
       "                                                                                                                &#x27;кур&#x27;]),\n",
       "                                                                                                              (&#x27;cat_cols&#x27;,\n",
       "                                                                                                               Pipeline(steps=[(&#x27;imputer&#x27;,\n",
       "                                                                                                                                Si...\n",
       "                                                                                                                &#x27;лекарственных &#x27;\n",
       "                                                                                                                &#x27;средств&#x27;,\n",
       "                                                                                                                &#x27;Травмы &#x27;\n",
       "                                                                                                                &#x27;за &#x27;\n",
       "                                                                                                                &#x27;год&#x27;,\n",
       "                                                                                                                &#x27;Переломы&#x27;,\n",
       "                                                                                                                &#x27;Пассивное &#x27;\n",
       "                                                                                                                &#x27;курение&#x27;,\n",
       "                                                                                                                &#x27;Сон &#x27;\n",
       "                                                                                                                &#x27;после &#x27;\n",
       "                                                                                                                &#x27;обеда&#x27;,\n",
       "                                                                                                                &#x27;Спорт, &#x27;\n",
       "                                                                                                                &#x27;клубы&#x27;,\n",
       "                                                                                                                &#x27;Религия, &#x27;\n",
       "                                                                                                                &#x27;клубы&#x27;])])),\n",
       "                                                                             (&#x27;model&#x27;,\n",
       "                                                                              RandomForestClassifier())]),\n",
       "                                                   n_jobs=4),\n",
       "                   param_distributions={&#x27;estimator__model__n_estimators&#x27;: array([10, 15, 20, 25, 30, 35, 40, 45, 50, 55, 60, 65, 70, 75, 80, 85, 90,\n",
       "       95])},\n",
       "                   scoring=make_scorer(fbeta_score, beta=2.0, average=micro))</pre></div></div></div><div class=\"sk-parallel\"><div class=\"sk-parallel-item\"><div class=\"sk-item\"><div class=\"sk-label-container\"><div class=\"sk-label sk-toggleable\"><input class=\"sk-toggleable__control sk-hidden--visually\" id=\"sk-estimator-id-32\" type=\"checkbox\" ><label for=\"sk-estimator-id-32\" class=\"sk-toggleable__label sk-toggleable__label-arrow\">estimator: MultiOutputClassifier</label><div class=\"sk-toggleable__content\"><pre>MultiOutputClassifier(estimator=Pipeline(steps=[(&#x27;preprocess&#x27;,\n",
       "                                                 ColumnTransformer(transformers=[(&#x27;real_cols&#x27;,\n",
       "                                                                                  Pipeline(steps=[(&#x27;imputer&#x27;,\n",
       "                                                                                                   SimpleImputer()),\n",
       "                                                                                                  (&#x27;scaler&#x27;,\n",
       "                                                                                                   StandardScaler())]),\n",
       "                                                                                  [&#x27;Возраст &#x27;\n",
       "                                                                                   &#x27;курения&#x27;,\n",
       "                                                                                   &#x27;Сигарет &#x27;\n",
       "                                                                                   &#x27;в &#x27;\n",
       "                                                                                   &#x27;день&#x27;,\n",
       "                                                                                   &#x27;Возраст &#x27;\n",
       "                                                                                   &#x27;алког&#x27;,\n",
       "                                                                                   &#x27;Частота &#x27;\n",
       "                                                                                   &#x27;пасс &#x27;\n",
       "                                                                                   &#x27;кур&#x27;]),\n",
       "                                                                                 (&#x27;cat_cols&#x27;,\n",
       "                                                                                  Pipeline(steps=[(&#x27;imputer&#x27;,\n",
       "                                                                                                   SimpleImputer(fill_value=&#x27;NA&#x27;,\n",
       "                                                                                                                 strategy=&#x27;constant&#x27;))...\n",
       "                                                                                   &#x27;работы &#x27;\n",
       "                                                                                   &#x27;по &#x27;\n",
       "                                                                                   &#x27;болезни&#x27;,\n",
       "                                                                                   &#x27;Сахарный &#x27;\n",
       "                                                                                   &#x27;диабет&#x27;,\n",
       "                                                                                   &#x27;Гепатит&#x27;,\n",
       "                                                                                   &#x27;Онкология&#x27;,\n",
       "                                                                                   &#x27;Хроническое &#x27;\n",
       "                                                                                   &#x27;заболевание &#x27;\n",
       "                                                                                   &#x27;легких&#x27;,\n",
       "                                                                                   &#x27;Бронжиальная &#x27;\n",
       "                                                                                   &#x27;астма&#x27;,\n",
       "                                                                                   &#x27;Туберкулез &#x27;\n",
       "                                                                                   &#x27;легких &#x27;,\n",
       "                                                                                   &#x27;ВИЧ/СПИД&#x27;,\n",
       "                                                                                   &#x27;Регулярный &#x27;\n",
       "                                                                                   &#x27;прим &#x27;\n",
       "                                                                                   &#x27;лекарственных &#x27;\n",
       "                                                                                   &#x27;средств&#x27;,\n",
       "                                                                                   &#x27;Травмы &#x27;\n",
       "                                                                                   &#x27;за &#x27;\n",
       "                                                                                   &#x27;год&#x27;,\n",
       "                                                                                   &#x27;Переломы&#x27;,\n",
       "                                                                                   &#x27;Пассивное &#x27;\n",
       "                                                                                   &#x27;курение&#x27;,\n",
       "                                                                                   &#x27;Сон &#x27;\n",
       "                                                                                   &#x27;после &#x27;\n",
       "                                                                                   &#x27;обеда&#x27;,\n",
       "                                                                                   &#x27;Спорт, &#x27;\n",
       "                                                                                   &#x27;клубы&#x27;,\n",
       "                                                                                   &#x27;Религия, &#x27;\n",
       "                                                                                   &#x27;клубы&#x27;])])),\n",
       "                                                (&#x27;model&#x27;,\n",
       "                                                 RandomForestClassifier())]),\n",
       "                      n_jobs=4)</pre></div></div></div><div class=\"sk-serial\"><div class=\"sk-item sk-dashed-wrapped\"><div class=\"sk-parallel\"><div class=\"sk-parallel-item\"><div class=\"sk-item\"><div class=\"sk-label-container\"><div class=\"sk-label sk-toggleable\"><input class=\"sk-toggleable__control sk-hidden--visually\" id=\"sk-estimator-id-33\" type=\"checkbox\" ><label for=\"sk-estimator-id-33\" class=\"sk-toggleable__label sk-toggleable__label-arrow\">estimator: Pipeline</label><div class=\"sk-toggleable__content\"><pre>Pipeline(steps=[(&#x27;preprocess&#x27;,\n",
       "                 ColumnTransformer(transformers=[(&#x27;real_cols&#x27;,\n",
       "                                                  Pipeline(steps=[(&#x27;imputer&#x27;,\n",
       "                                                                   SimpleImputer()),\n",
       "                                                                  (&#x27;scaler&#x27;,\n",
       "                                                                   StandardScaler())]),\n",
       "                                                  [&#x27;Возраст курения&#x27;,\n",
       "                                                   &#x27;Сигарет в день&#x27;,\n",
       "                                                   &#x27;Возраст алког&#x27;,\n",
       "                                                   &#x27;Частота пасс кур&#x27;]),\n",
       "                                                 (&#x27;cat_cols&#x27;,\n",
       "                                                  Pipeline(steps=[(&#x27;imputer&#x27;,\n",
       "                                                                   SimpleImputer(fill_value=&#x27;NA&#x27;,\n",
       "                                                                                 strategy=&#x27;constant&#x27;)),\n",
       "                                                                  (&#x27;ohe&#x27;,\n",
       "                                                                   OneHotEncoder(handle_unknown=&#x27;ignore...\n",
       "                                                  [&#x27;Вы работаете?&#x27;,\n",
       "                                                   &#x27;Выход на пенсию&#x27;,\n",
       "                                                   &#x27;Прекращение работы по &#x27;\n",
       "                                                   &#x27;болезни&#x27;,\n",
       "                                                   &#x27;Сахарный диабет&#x27;, &#x27;Гепатит&#x27;,\n",
       "                                                   &#x27;Онкология&#x27;,\n",
       "                                                   &#x27;Хроническое заболевание &#x27;\n",
       "                                                   &#x27;легких&#x27;,\n",
       "                                                   &#x27;Бронжиальная астма&#x27;,\n",
       "                                                   &#x27;Туберкулез легких &#x27;,\n",
       "                                                   &#x27;ВИЧ/СПИД&#x27;,\n",
       "                                                   &#x27;Регулярный прим &#x27;\n",
       "                                                   &#x27;лекарственных средств&#x27;,\n",
       "                                                   &#x27;Травмы за год&#x27;, &#x27;Переломы&#x27;,\n",
       "                                                   &#x27;Пассивное курение&#x27;,\n",
       "                                                   &#x27;Сон после обеда&#x27;,\n",
       "                                                   &#x27;Спорт, клубы&#x27;,\n",
       "                                                   &#x27;Религия, клубы&#x27;])])),\n",
       "                (&#x27;model&#x27;, RandomForestClassifier())])</pre></div></div></div><div class=\"sk-serial\"><div class=\"sk-item\"><div class=\"sk-serial\"><div class=\"sk-item sk-dashed-wrapped\"><div class=\"sk-label-container\"><div class=\"sk-label sk-toggleable\"><input class=\"sk-toggleable__control sk-hidden--visually\" id=\"sk-estimator-id-34\" type=\"checkbox\" ><label for=\"sk-estimator-id-34\" class=\"sk-toggleable__label sk-toggleable__label-arrow\">preprocess: ColumnTransformer</label><div class=\"sk-toggleable__content\"><pre>ColumnTransformer(transformers=[(&#x27;real_cols&#x27;,\n",
       "                                 Pipeline(steps=[(&#x27;imputer&#x27;, SimpleImputer()),\n",
       "                                                 (&#x27;scaler&#x27;, StandardScaler())]),\n",
       "                                 [&#x27;Возраст курения&#x27;, &#x27;Сигарет в день&#x27;,\n",
       "                                  &#x27;Возраст алког&#x27;, &#x27;Частота пасс кур&#x27;]),\n",
       "                                (&#x27;cat_cols&#x27;,\n",
       "                                 Pipeline(steps=[(&#x27;imputer&#x27;,\n",
       "                                                  SimpleImputer(fill_value=&#x27;NA&#x27;,\n",
       "                                                                strategy=&#x27;constant&#x27;)),\n",
       "                                                 (&#x27;ohe&#x27;,\n",
       "                                                  OneHotEncoder(handle_unknown=&#x27;ignore&#x27;,\n",
       "                                                                sparse=False))]),\n",
       "                                 [&#x27;Пол&#x27;, &#x27;Сем...\n",
       "                                  &#x27;Время засыпания&#x27;, &#x27;Время пробуждения&#x27;]),\n",
       "                                (&#x27;ohe_cols&#x27;, &#x27;passthrough&#x27;,\n",
       "                                 [&#x27;Вы работаете?&#x27;, &#x27;Выход на пенсию&#x27;,\n",
       "                                  &#x27;Прекращение работы по болезни&#x27;,\n",
       "                                  &#x27;Сахарный диабет&#x27;, &#x27;Гепатит&#x27;, &#x27;Онкология&#x27;,\n",
       "                                  &#x27;Хроническое заболевание легких&#x27;,\n",
       "                                  &#x27;Бронжиальная астма&#x27;, &#x27;Туберкулез легких &#x27;,\n",
       "                                  &#x27;ВИЧ/СПИД&#x27;,\n",
       "                                  &#x27;Регулярный прим лекарственных средств&#x27;,\n",
       "                                  &#x27;Травмы за год&#x27;, &#x27;Переломы&#x27;,\n",
       "                                  &#x27;Пассивное курение&#x27;, &#x27;Сон после обеда&#x27;,\n",
       "                                  &#x27;Спорт, клубы&#x27;, &#x27;Религия, клубы&#x27;])])</pre></div></div></div><div class=\"sk-parallel\"><div class=\"sk-parallel-item\"><div class=\"sk-item\"><div class=\"sk-label-container\"><div class=\"sk-label sk-toggleable\"><input class=\"sk-toggleable__control sk-hidden--visually\" id=\"sk-estimator-id-35\" type=\"checkbox\" ><label for=\"sk-estimator-id-35\" class=\"sk-toggleable__label sk-toggleable__label-arrow\">real_cols</label><div class=\"sk-toggleable__content\"><pre>[&#x27;Возраст курения&#x27;, &#x27;Сигарет в день&#x27;, &#x27;Возраст алког&#x27;, &#x27;Частота пасс кур&#x27;]</pre></div></div></div><div class=\"sk-serial\"><div class=\"sk-item\"><div class=\"sk-serial\"><div class=\"sk-item\"><div class=\"sk-estimator sk-toggleable\"><input class=\"sk-toggleable__control sk-hidden--visually\" id=\"sk-estimator-id-36\" type=\"checkbox\" ><label for=\"sk-estimator-id-36\" class=\"sk-toggleable__label sk-toggleable__label-arrow\">SimpleImputer</label><div class=\"sk-toggleable__content\"><pre>SimpleImputer()</pre></div></div></div><div class=\"sk-item\"><div class=\"sk-estimator sk-toggleable\"><input class=\"sk-toggleable__control sk-hidden--visually\" id=\"sk-estimator-id-37\" type=\"checkbox\" ><label for=\"sk-estimator-id-37\" class=\"sk-toggleable__label sk-toggleable__label-arrow\">StandardScaler</label><div class=\"sk-toggleable__content\"><pre>StandardScaler()</pre></div></div></div></div></div></div></div></div><div class=\"sk-parallel-item\"><div class=\"sk-item\"><div class=\"sk-label-container\"><div class=\"sk-label sk-toggleable\"><input class=\"sk-toggleable__control sk-hidden--visually\" id=\"sk-estimator-id-38\" type=\"checkbox\" ><label for=\"sk-estimator-id-38\" class=\"sk-toggleable__label sk-toggleable__label-arrow\">cat_cols</label><div class=\"sk-toggleable__content\"><pre>[&#x27;Пол&#x27;, &#x27;Семья&#x27;, &#x27;Этнос&#x27;, &#x27;Национальность&#x27;, &#x27;Религия&#x27;, &#x27;Образование&#x27;, &#x27;Профессия&#x27;, &#x27;Статус Курения&#x27;, &#x27;Алкоголь&#x27;, &#x27;Время засыпания&#x27;, &#x27;Время пробуждения&#x27;]</pre></div></div></div><div class=\"sk-serial\"><div class=\"sk-item\"><div class=\"sk-serial\"><div class=\"sk-item\"><div class=\"sk-estimator sk-toggleable\"><input class=\"sk-toggleable__control sk-hidden--visually\" id=\"sk-estimator-id-39\" type=\"checkbox\" ><label for=\"sk-estimator-id-39\" class=\"sk-toggleable__label sk-toggleable__label-arrow\">SimpleImputer</label><div class=\"sk-toggleable__content\"><pre>SimpleImputer(fill_value=&#x27;NA&#x27;, strategy=&#x27;constant&#x27;)</pre></div></div></div><div class=\"sk-item\"><div class=\"sk-estimator sk-toggleable\"><input class=\"sk-toggleable__control sk-hidden--visually\" id=\"sk-estimator-id-40\" type=\"checkbox\" ><label for=\"sk-estimator-id-40\" class=\"sk-toggleable__label sk-toggleable__label-arrow\">OneHotEncoder</label><div class=\"sk-toggleable__content\"><pre>OneHotEncoder(handle_unknown=&#x27;ignore&#x27;, sparse=False)</pre></div></div></div></div></div></div></div></div><div class=\"sk-parallel-item\"><div class=\"sk-item\"><div class=\"sk-label-container\"><div class=\"sk-label sk-toggleable\"><input class=\"sk-toggleable__control sk-hidden--visually\" id=\"sk-estimator-id-41\" type=\"checkbox\" ><label for=\"sk-estimator-id-41\" class=\"sk-toggleable__label sk-toggleable__label-arrow\">woe_cat_cols</label><div class=\"sk-toggleable__content\"><pre>[&#x27;Пол&#x27;, &#x27;Семья&#x27;, &#x27;Этнос&#x27;, &#x27;Национальность&#x27;, &#x27;Религия&#x27;, &#x27;Образование&#x27;, &#x27;Профессия&#x27;, &#x27;Статус Курения&#x27;, &#x27;Алкоголь&#x27;, &#x27;Время засыпания&#x27;, &#x27;Время пробуждения&#x27;]</pre></div></div></div><div class=\"sk-serial\"><div class=\"sk-item\"><div class=\"sk-estimator sk-toggleable\"><input class=\"sk-toggleable__control sk-hidden--visually\" id=\"sk-estimator-id-42\" type=\"checkbox\" ><label for=\"sk-estimator-id-42\" class=\"sk-toggleable__label sk-toggleable__label-arrow\">WOEEncoder</label><div class=\"sk-toggleable__content\"><pre>WOEEncoder()</pre></div></div></div></div></div></div><div class=\"sk-parallel-item\"><div class=\"sk-item\"><div class=\"sk-label-container\"><div class=\"sk-label sk-toggleable\"><input class=\"sk-toggleable__control sk-hidden--visually\" id=\"sk-estimator-id-43\" type=\"checkbox\" ><label for=\"sk-estimator-id-43\" class=\"sk-toggleable__label sk-toggleable__label-arrow\">ohe_cols</label><div class=\"sk-toggleable__content\"><pre>[&#x27;Вы работаете?&#x27;, &#x27;Выход на пенсию&#x27;, &#x27;Прекращение работы по болезни&#x27;, &#x27;Сахарный диабет&#x27;, &#x27;Гепатит&#x27;, &#x27;Онкология&#x27;, &#x27;Хроническое заболевание легких&#x27;, &#x27;Бронжиальная астма&#x27;, &#x27;Туберкулез легких &#x27;, &#x27;ВИЧ/СПИД&#x27;, &#x27;Регулярный прим лекарственных средств&#x27;, &#x27;Травмы за год&#x27;, &#x27;Переломы&#x27;, &#x27;Пассивное курение&#x27;, &#x27;Сон после обеда&#x27;, &#x27;Спорт, клубы&#x27;, &#x27;Религия, клубы&#x27;]</pre></div></div></div><div class=\"sk-serial\"><div class=\"sk-item\"><div class=\"sk-estimator sk-toggleable\"><input class=\"sk-toggleable__control sk-hidden--visually\" id=\"sk-estimator-id-44\" type=\"checkbox\" ><label for=\"sk-estimator-id-44\" class=\"sk-toggleable__label sk-toggleable__label-arrow\">passthrough</label><div class=\"sk-toggleable__content\"><pre>passthrough</pre></div></div></div></div></div></div></div></div><div class=\"sk-item\"><div class=\"sk-estimator sk-toggleable\"><input class=\"sk-toggleable__control sk-hidden--visually\" id=\"sk-estimator-id-45\" type=\"checkbox\" ><label for=\"sk-estimator-id-45\" class=\"sk-toggleable__label sk-toggleable__label-arrow\">RandomForestClassifier</label><div class=\"sk-toggleable__content\"><pre>RandomForestClassifier()</pre></div></div></div></div></div></div></div></div></div></div></div></div></div></div></div></div></div>"
      ],
      "text/plain": [
       "RandomizedSearchCV(error_score='raise',\n",
       "                   estimator=MultiOutputClassifier(estimator=Pipeline(steps=[('preprocess',\n",
       "                                                                              ColumnTransformer(transformers=[('real_cols',\n",
       "                                                                                                               Pipeline(steps=[('imputer',\n",
       "                                                                                                                                SimpleImputer()),\n",
       "                                                                                                                               ('scaler',\n",
       "                                                                                                                                StandardScaler())]),\n",
       "                                                                                                               ['Возраст '\n",
       "                                                                                                                'курения',\n",
       "                                                                                                                'Сигарет '\n",
       "                                                                                                                'в '\n",
       "                                                                                                                'день',\n",
       "                                                                                                                'Возраст '\n",
       "                                                                                                                'алког',\n",
       "                                                                                                                'Частота '\n",
       "                                                                                                                'пасс '\n",
       "                                                                                                                'кур']),\n",
       "                                                                                                              ('cat_cols',\n",
       "                                                                                                               Pipeline(steps=[('imputer',\n",
       "                                                                                                                                Si...\n",
       "                                                                                                                'лекарственных '\n",
       "                                                                                                                'средств',\n",
       "                                                                                                                'Травмы '\n",
       "                                                                                                                'за '\n",
       "                                                                                                                'год',\n",
       "                                                                                                                'Переломы',\n",
       "                                                                                                                'Пассивное '\n",
       "                                                                                                                'курение',\n",
       "                                                                                                                'Сон '\n",
       "                                                                                                                'после '\n",
       "                                                                                                                'обеда',\n",
       "                                                                                                                'Спорт, '\n",
       "                                                                                                                'клубы',\n",
       "                                                                                                                'Религия, '\n",
       "                                                                                                                'клубы'])])),\n",
       "                                                                             ('model',\n",
       "                                                                              RandomForestClassifier())]),\n",
       "                                                   n_jobs=4),\n",
       "                   param_distributions={'estimator__model__n_estimators': array([10, 15, 20, 25, 30, 35, 40, 45, 50, 55, 60, 65, 70, 75, 80, 85, 90,\n",
       "       95])},\n",
       "                   scoring=make_scorer(fbeta_score, beta=2.0, average=micro))"
      ]
     },
     "execution_count": 33,
     "metadata": {},
     "output_type": "execute_result"
    }
   ],
   "source": [
    "scores.fit(X=train_data, y=train_target)"
   ]
  },
  {
   "cell_type": "code",
   "execution_count": 34,
   "metadata": {},
   "outputs": [
    {
     "data": {
      "text/plain": [
       "0.402248748255127"
      ]
     },
     "execution_count": 34,
     "metadata": {},
     "output_type": "execute_result"
    }
   ],
   "source": [
    "scores.best_score_"
   ]
  },
  {
   "cell_type": "code",
   "execution_count": 268,
   "metadata": {},
   "outputs": [],
   "source": [
    "from catboost import CatBoostClassifier"
   ]
  },
  {
   "cell_type": "code",
   "execution_count": null,
   "metadata": {},
   "outputs": [],
   "source": []
  },
  {
   "cell_type": "code",
   "execution_count": 269,
   "metadata": {},
   "outputs": [],
   "source": [
    "cat_boost_model = CatBoostClassifier(loss_function='MultiLogloss',\n",
    "                # custom_metric=['Recall', 'F1'],\n",
    "                iterations=2000,\n",
    "                silent=True,\n",
    "                cat_features=CAT_COLS)"
   ]
  },
  {
   "cell_type": "code",
   "execution_count": 270,
   "metadata": {},
   "outputs": [],
   "source": [
    "stack = StackingClassifier([(\"catboost\", cat_boost_model), (\"sk model\", model_pipe)])\n",
    "stack = MultiOutputClassifier(stack, n_jobs=4)"
   ]
  },
  {
   "cell_type": "code",
   "execution_count": 278,
   "metadata": {},
   "outputs": [
    {
     "ename": "NameError",
     "evalue": "name 'scores' is not defined",
     "output_type": "error",
     "traceback": [
      "\u001b[0;31m---------------------------------------------------------------------------\u001b[0m",
      "\u001b[0;31mNameError\u001b[0m                                 Traceback (most recent call last)",
      "\u001b[1;32m/home/ebuzanov/DataAnalysisClassificationLab/notebooks/test2.ipynb Cell 21'\u001b[0m in \u001b[0;36m<cell line: 1>\u001b[0;34m()\u001b[0m\n\u001b[0;32m----> <a href='vscode-notebook-cell://wsl%2Bubuntu/home/ebuzanov/DataAnalysisClassificationLab/notebooks/test2.ipynb#ch0000021vscode-remote?line=0'>1</a>\u001b[0m scores\n",
      "\u001b[0;31mNameError\u001b[0m: name 'scores' is not defined"
     ]
    }
   ],
   "source": [
    "scores"
   ]
  },
  {
   "cell_type": "code",
   "execution_count": null,
   "metadata": {},
   "outputs": [],
   "source": []
  }
 ],
 "metadata": {
  "kernelspec": {
   "display_name": "Python 3.8.10 ('venv': venv)",
   "language": "python",
   "name": "python3"
  },
  "language_info": {
   "codemirror_mode": {
    "name": "ipython",
    "version": 3
   },
   "file_extension": ".py",
   "mimetype": "text/x-python",
   "name": "python",
   "nbconvert_exporter": "python",
   "pygments_lexer": "ipython3",
   "version": "3.8.10"
  },
  "orig_nbformat": 4,
  "vscode": {
   "interpreter": {
    "hash": "64d0687d226eb02ce9c596f53de4dfa1c653cf8449d5a55084cda4a4563a6772"
   }
  }
 },
 "nbformat": 4,
 "nbformat_minor": 2
}
