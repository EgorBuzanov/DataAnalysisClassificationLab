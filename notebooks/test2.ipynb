{
 "cells": [
  {
   "cell_type": "code",
   "execution_count": 252,
   "metadata": {},
   "outputs": [],
   "source": [
    "import pandas as pd\n",
    "import numpy as np\n",
    "import matplotlib.pyplot as plt\n",
    "import pickle\n",
    "from sklearn.svm import *\n",
    "from sklearn.model_selection import *\n",
    "from sklearn.preprocessing import *\n",
    "from sklearn.compose import *\n",
    "from sklearn.pipeline import *\n",
    "from sklearn.metrics import *\n",
    "from sklearn.impute import *\n",
    "from sklearn.multioutput import *\n",
    "from sklearn.ensemble import *"
   ]
  },
  {
   "cell_type": "code",
   "execution_count": 253,
   "metadata": {},
   "outputs": [],
   "source": [
    "with open(\"../data/processed/train.pkl\", \"rb\") as f:\n",
    "    train = pickle.load(f)"
   ]
  },
  {
   "cell_type": "code",
   "execution_count": 254,
   "metadata": {},
   "outputs": [],
   "source": [
    "with open(\"../data/processed/target.pkl\", \"rb\") as f:\n",
    "    target = pickle.load(f)"
   ]
  },
  {
   "cell_type": "code",
   "execution_count": 255,
   "metadata": {},
   "outputs": [
    {
     "data": {
      "text/html": [
       "<div>\n",
       "<style scoped>\n",
       "    .dataframe tbody tr th:only-of-type {\n",
       "        vertical-align: middle;\n",
       "    }\n",
       "\n",
       "    .dataframe tbody tr th {\n",
       "        vertical-align: top;\n",
       "    }\n",
       "\n",
       "    .dataframe thead th {\n",
       "        text-align: right;\n",
       "    }\n",
       "</style>\n",
       "<table border=\"1\" class=\"dataframe\">\n",
       "  <thead>\n",
       "    <tr style=\"text-align: right;\">\n",
       "      <th></th>\n",
       "      <th>Пол</th>\n",
       "      <th>Семья</th>\n",
       "      <th>Этнос</th>\n",
       "      <th>Национальность</th>\n",
       "      <th>Религия</th>\n",
       "      <th>Образование</th>\n",
       "      <th>Профессия</th>\n",
       "      <th>Вы работаете?</th>\n",
       "      <th>Выход на пенсию</th>\n",
       "      <th>Прекращение работы по болезни</th>\n",
       "      <th>...</th>\n",
       "      <th>Частота пасс кур</th>\n",
       "      <th>Алкоголь</th>\n",
       "      <th>Возраст алког</th>\n",
       "      <th>Время засыпания</th>\n",
       "      <th>Время пробуждения</th>\n",
       "      <th>Сон после обеда</th>\n",
       "      <th>Спорт, клубы</th>\n",
       "      <th>Религия, клубы</th>\n",
       "      <th>Продолжительность сна</th>\n",
       "      <th>Образование_ord</th>\n",
       "    </tr>\n",
       "    <tr>\n",
       "      <th>ID</th>\n",
       "      <th></th>\n",
       "      <th></th>\n",
       "      <th></th>\n",
       "      <th></th>\n",
       "      <th></th>\n",
       "      <th></th>\n",
       "      <th></th>\n",
       "      <th></th>\n",
       "      <th></th>\n",
       "      <th></th>\n",
       "      <th></th>\n",
       "      <th></th>\n",
       "      <th></th>\n",
       "      <th></th>\n",
       "      <th></th>\n",
       "      <th></th>\n",
       "      <th></th>\n",
       "      <th></th>\n",
       "      <th></th>\n",
       "      <th></th>\n",
       "      <th></th>\n",
       "    </tr>\n",
       "  </thead>\n",
       "  <tbody>\n",
       "    <tr>\n",
       "      <th>54-102-358-02</th>\n",
       "      <td>М</td>\n",
       "      <td>в браке в настоящее время</td>\n",
       "      <td>европейская</td>\n",
       "      <td>Русские</td>\n",
       "      <td>Христианство</td>\n",
       "      <td>3 - средняя школа / закон.среднее / выше среднего</td>\n",
       "      <td>низкоквалифицированные работники</td>\n",
       "      <td>1</td>\n",
       "      <td>0</td>\n",
       "      <td>0</td>\n",
       "      <td>...</td>\n",
       "      <td>NaN</td>\n",
       "      <td>употребляю в настоящее время</td>\n",
       "      <td>18.0</td>\n",
       "      <td>22:00:00</td>\n",
       "      <td>06:00:00</td>\n",
       "      <td>0</td>\n",
       "      <td>0</td>\n",
       "      <td>0</td>\n",
       "      <td>8</td>\n",
       "      <td>3</td>\n",
       "    </tr>\n",
       "    <tr>\n",
       "      <th>54-103-101-01</th>\n",
       "      <td>Ж</td>\n",
       "      <td>в разводе</td>\n",
       "      <td>европейская</td>\n",
       "      <td>Русские</td>\n",
       "      <td>Христианство</td>\n",
       "      <td>5 - ВУЗ</td>\n",
       "      <td>дипломированные специалисты</td>\n",
       "      <td>0</td>\n",
       "      <td>0</td>\n",
       "      <td>0</td>\n",
       "      <td>...</td>\n",
       "      <td>NaN</td>\n",
       "      <td>никогда не употреблял</td>\n",
       "      <td>NaN</td>\n",
       "      <td>00:00:00</td>\n",
       "      <td>04:00:00</td>\n",
       "      <td>1</td>\n",
       "      <td>0</td>\n",
       "      <td>0</td>\n",
       "      <td>4</td>\n",
       "      <td>5</td>\n",
       "    </tr>\n",
       "    <tr>\n",
       "      <th>54-501-026-03</th>\n",
       "      <td>Ж</td>\n",
       "      <td>в браке в настоящее время</td>\n",
       "      <td>европейская</td>\n",
       "      <td>Русские</td>\n",
       "      <td>Христианство</td>\n",
       "      <td>5 - ВУЗ</td>\n",
       "      <td>дипломированные специалисты</td>\n",
       "      <td>0</td>\n",
       "      <td>0</td>\n",
       "      <td>0</td>\n",
       "      <td>...</td>\n",
       "      <td>1.5</td>\n",
       "      <td>употребляю в настоящее время</td>\n",
       "      <td>17.0</td>\n",
       "      <td>23:00:00</td>\n",
       "      <td>07:00:00</td>\n",
       "      <td>0</td>\n",
       "      <td>0</td>\n",
       "      <td>0</td>\n",
       "      <td>8</td>\n",
       "      <td>5</td>\n",
       "    </tr>\n",
       "    <tr>\n",
       "      <th>54-501-094-02</th>\n",
       "      <td>М</td>\n",
       "      <td>в браке в настоящее время</td>\n",
       "      <td>европейская</td>\n",
       "      <td>Русские</td>\n",
       "      <td>Атеист / агностик</td>\n",
       "      <td>3 - средняя школа / закон.среднее / выше среднего</td>\n",
       "      <td>низкоквалифицированные работники</td>\n",
       "      <td>1</td>\n",
       "      <td>0</td>\n",
       "      <td>0</td>\n",
       "      <td>...</td>\n",
       "      <td>4.5</td>\n",
       "      <td>употребляю в настоящее время</td>\n",
       "      <td>13.0</td>\n",
       "      <td>23:00:00</td>\n",
       "      <td>07:00:00</td>\n",
       "      <td>0</td>\n",
       "      <td>0</td>\n",
       "      <td>0</td>\n",
       "      <td>8</td>\n",
       "      <td>3</td>\n",
       "    </tr>\n",
       "    <tr>\n",
       "      <th>54-503-022-01</th>\n",
       "      <td>Ж</td>\n",
       "      <td>в браке в настоящее время</td>\n",
       "      <td>европейская</td>\n",
       "      <td>Русские</td>\n",
       "      <td>Христианство</td>\n",
       "      <td>3 - средняя школа / закон.среднее / выше среднего</td>\n",
       "      <td>операторы и монтажники установок и машинного о...</td>\n",
       "      <td>0</td>\n",
       "      <td>0</td>\n",
       "      <td>1</td>\n",
       "      <td>...</td>\n",
       "      <td>7.0</td>\n",
       "      <td>употребляю в настоящее время</td>\n",
       "      <td>16.0</td>\n",
       "      <td>23:00:00</td>\n",
       "      <td>06:00:00</td>\n",
       "      <td>0</td>\n",
       "      <td>0</td>\n",
       "      <td>0</td>\n",
       "      <td>7</td>\n",
       "      <td>3</td>\n",
       "    </tr>\n",
       "  </tbody>\n",
       "</table>\n",
       "<p>5 rows × 34 columns</p>\n",
       "</div>"
      ],
      "text/plain": [
       "              Пол                      Семья        Этнос Национальность  \\\n",
       "ID                                                                         \n",
       "54-102-358-02   М  в браке в настоящее время  европейская        Русские   \n",
       "54-103-101-01   Ж                  в разводе  европейская        Русские   \n",
       "54-501-026-03   Ж  в браке в настоящее время  европейская        Русские   \n",
       "54-501-094-02   М  в браке в настоящее время  европейская        Русские   \n",
       "54-503-022-01   Ж  в браке в настоящее время  европейская        Русские   \n",
       "\n",
       "                         Религия  \\\n",
       "ID                                 \n",
       "54-102-358-02       Христианство   \n",
       "54-103-101-01       Христианство   \n",
       "54-501-026-03       Христианство   \n",
       "54-501-094-02  Атеист / агностик   \n",
       "54-503-022-01       Христианство   \n",
       "\n",
       "                                                     Образование  \\\n",
       "ID                                                                 \n",
       "54-102-358-02  3 - средняя школа / закон.среднее / выше среднего   \n",
       "54-103-101-01                                            5 - ВУЗ   \n",
       "54-501-026-03                                            5 - ВУЗ   \n",
       "54-501-094-02  3 - средняя школа / закон.среднее / выше среднего   \n",
       "54-503-022-01  3 - средняя школа / закон.среднее / выше среднего   \n",
       "\n",
       "                                                       Профессия  \\\n",
       "ID                                                                 \n",
       "54-102-358-02                   низкоквалифицированные работники   \n",
       "54-103-101-01                        дипломированные специалисты   \n",
       "54-501-026-03                        дипломированные специалисты   \n",
       "54-501-094-02                   низкоквалифицированные работники   \n",
       "54-503-022-01  операторы и монтажники установок и машинного о...   \n",
       "\n",
       "               Вы работаете?  Выход на пенсию  Прекращение работы по болезни  \\\n",
       "ID                                                                             \n",
       "54-102-358-02              1                0                              0   \n",
       "54-103-101-01              0                0                              0   \n",
       "54-501-026-03              0                0                              0   \n",
       "54-501-094-02              1                0                              0   \n",
       "54-503-022-01              0                0                              1   \n",
       "\n",
       "               ...  Частота пасс кур                      Алкоголь  \\\n",
       "ID             ...                                                   \n",
       "54-102-358-02  ...               NaN  употребляю в настоящее время   \n",
       "54-103-101-01  ...               NaN         никогда не употреблял   \n",
       "54-501-026-03  ...               1.5  употребляю в настоящее время   \n",
       "54-501-094-02  ...               4.5  употребляю в настоящее время   \n",
       "54-503-022-01  ...               7.0  употребляю в настоящее время   \n",
       "\n",
       "               Возраст алког  Время засыпания  Время пробуждения  \\\n",
       "ID                                                                 \n",
       "54-102-358-02           18.0         22:00:00           06:00:00   \n",
       "54-103-101-01            NaN         00:00:00           04:00:00   \n",
       "54-501-026-03           17.0         23:00:00           07:00:00   \n",
       "54-501-094-02           13.0         23:00:00           07:00:00   \n",
       "54-503-022-01           16.0         23:00:00           06:00:00   \n",
       "\n",
       "               Сон после обеда  Спорт, клубы  Религия, клубы  \\\n",
       "ID                                                             \n",
       "54-102-358-02                0             0               0   \n",
       "54-103-101-01                1             0               0   \n",
       "54-501-026-03                0             0               0   \n",
       "54-501-094-02                0             0               0   \n",
       "54-503-022-01                0             0               0   \n",
       "\n",
       "               Продолжительность сна  Образование_ord  \n",
       "ID                                                     \n",
       "54-102-358-02                      8                3  \n",
       "54-103-101-01                      4                5  \n",
       "54-501-026-03                      8                5  \n",
       "54-501-094-02                      8                3  \n",
       "54-503-022-01                      7                3  \n",
       "\n",
       "[5 rows x 34 columns]"
      ]
     },
     "execution_count": 255,
     "metadata": {},
     "output_type": "execute_result"
    }
   ],
   "source": [
    "train.head()"
   ]
  },
  {
   "cell_type": "code",
   "execution_count": 256,
   "metadata": {},
   "outputs": [
    {
     "name": "stdout",
     "output_type": "stream",
     "text": [
      "<class 'pandas.core.frame.DataFrame'>\n",
      "Index: 955 entries, 54-102-358-02 to 54-702-016-01\n",
      "Data columns (total 34 columns):\n",
      " #   Column                                 Non-Null Count  Dtype   \n",
      "---  ------                                 --------------  -----   \n",
      " 0   Пол                                    955 non-null    category\n",
      " 1   Семья                                  955 non-null    category\n",
      " 2   Этнос                                  955 non-null    category\n",
      " 3   Национальность                         955 non-null    category\n",
      " 4   Религия                                955 non-null    category\n",
      " 5   Образование                            955 non-null    category\n",
      " 6   Профессия                              955 non-null    category\n",
      " 7   Вы работаете?                          955 non-null    int8    \n",
      " 8   Выход на пенсию                        955 non-null    int8    \n",
      " 9   Прекращение работы по болезни          955 non-null    int8    \n",
      " 10  Сахарный диабет                        955 non-null    int8    \n",
      " 11  Гепатит                                955 non-null    int8    \n",
      " 12  Онкология                              955 non-null    int8    \n",
      " 13  Хроническое заболевание легких         955 non-null    int8    \n",
      " 14  Бронжиальная астма                     955 non-null    int8    \n",
      " 15  Туберкулез легких                      955 non-null    int8    \n",
      " 16  ВИЧ/СПИД                               955 non-null    int8    \n",
      " 17  Регулярный прим лекарственных средств  955 non-null    int8    \n",
      " 18  Травмы за год                          955 non-null    int8    \n",
      " 19  Переломы                               955 non-null    int8    \n",
      " 20  Статус Курения                         955 non-null    category\n",
      " 21  Возраст курения                        412 non-null    float32 \n",
      " 22  Сигарет в день                         409 non-null    float32 \n",
      " 23  Пассивное курение                      955 non-null    int8    \n",
      " 24  Частота пасс кур                       223 non-null    float32 \n",
      " 25  Алкоголь                               955 non-null    category\n",
      " 26  Возраст алког                          788 non-null    float32 \n",
      " 27  Время засыпания                        955 non-null    category\n",
      " 28  Время пробуждения                      955 non-null    category\n",
      " 29  Сон после обеда                        955 non-null    int8    \n",
      " 30  Спорт, клубы                           955 non-null    int8    \n",
      " 31  Религия, клубы                         955 non-null    int8    \n",
      " 32  Продолжительность сна                  955 non-null    int8    \n",
      " 33  Образование_ord                        955 non-null    int8    \n",
      "dtypes: category(11), float32(4), int8(19)\n",
      "memory usage: 51.2+ KB\n"
     ]
    }
   ],
   "source": [
    "train.info()"
   ]
  },
  {
   "cell_type": "code",
   "execution_count": 257,
   "metadata": {},
   "outputs": [
    {
     "name": "stdout",
     "output_type": "stream",
     "text": [
      "<class 'pandas.core.frame.DataFrame'>\n",
      "Index: 955 entries, 54-102-358-02 to 54-702-016-01\n",
      "Data columns (total 5 columns):\n",
      " #   Column                              Non-Null Count  Dtype\n",
      "---  ------                              --------------  -----\n",
      " 0   Артериальная гипертензия            955 non-null    int8 \n",
      " 1   ОНМК                                955 non-null    int8 \n",
      " 2   Стенокардия, ИБС, инфаркт миокарда  955 non-null    int8 \n",
      " 3   Сердечная недостаточность           955 non-null    int8 \n",
      " 4   Прочие заболевания сердца           955 non-null    int8 \n",
      "dtypes: int8(5)\n",
      "memory usage: 12.1+ KB\n"
     ]
    }
   ],
   "source": [
    "target.info()"
   ]
  },
  {
   "cell_type": "code",
   "execution_count": 258,
   "metadata": {},
   "outputs": [],
   "source": [
    "TARGET_COLS = ['Артериальная гипертензия', 'ОНМК', 'Стенокардия, ИБС, инфаркт миокарда', 'Сердечная недостаточность', 'Прочие заболевания сердца']\n",
    "ID_COL = 'ID'\n",
    "EDU_COL = 'Образование'\n",
    "SEX_COL = 'Пол'\n",
    "CAT_COLS = [\n",
    "    'Пол', 'Семья', 'Этнос', 'Национальность', 'Религия', 'Образование', \n",
    "    'Профессия', 'Статус Курения', 'Алкоголь',\n",
    "    'Время засыпания', 'Время пробуждения'\n",
    "]\n",
    "OHE_COLS = [\n",
    "    'Вы работаете?', 'Выход на пенсию', 'Прекращение работы по болезни', 'Сахарный диабет', 'Гепатит',\n",
    "    'Онкология', 'Хроническое заболевание легких', 'Бронжиальная астма', 'Туберкулез легких ', 'ВИЧ/СПИД',\n",
    "    'Регулярный прим лекарственных средств', 'Травмы за год', 'Переломы','Пассивное курение', 'Сон после обеда', \n",
    "    'Спорт, клубы', 'Религия, клубы'\n",
    "]\n",
    "REAL_COLS = ['Возраст курения', 'Сигарет в день', 'Возраст алког', 'Частота пасс кур']"
   ]
  },
  {
   "cell_type": "code",
   "execution_count": 259,
   "metadata": {},
   "outputs": [],
   "source": [
    "train[CAT_COLS] = train[CAT_COLS].astype('object')"
   ]
  },
  {
   "cell_type": "code",
   "execution_count": 260,
   "metadata": {},
   "outputs": [],
   "source": [
    "train_data, val_data, train_target, val_target = train_test_split(train, target, train_size=0.8, random_state=42)"
   ]
  },
  {
   "cell_type": "code",
   "execution_count": 261,
   "metadata": {},
   "outputs": [],
   "source": [
    "real_pipe = Pipeline([\n",
    "    ('imputer', SimpleImputer()),\n",
    "    ('scaler', StandardScaler())\n",
    "]\n",
    ")"
   ]
  },
  {
   "cell_type": "code",
   "execution_count": 262,
   "metadata": {},
   "outputs": [],
   "source": [
    "cat_pipe = Pipeline([\n",
    "    ('imputer', SimpleImputer(strategy='constant', fill_value='NA')),\n",
    "    ('ohe', OneHotEncoder(handle_unknown='ignore', sparse=False))\n",
    "])"
   ]
  },
  {
   "cell_type": "code",
   "execution_count": 263,
   "metadata": {},
   "outputs": [],
   "source": [
    "import category_encoders as ce"
   ]
  },
  {
   "cell_type": "code",
   "execution_count": 264,
   "metadata": {},
   "outputs": [],
   "source": [
    "preprocess_pipe = ColumnTransformer(transformers=[\n",
    "    ('real_cols', real_pipe, REAL_COLS),\n",
    "    ('cat_cols', cat_pipe, CAT_COLS),\n",
    "    ('woe_cat_cols', ce.WOEEncoder(), CAT_COLS),\n",
    "    ('ohe_cols', 'passthrough', OHE_COLS)\n",
    "]\n",
    ")"
   ]
  },
  {
   "cell_type": "code",
   "execution_count": 265,
   "metadata": {},
   "outputs": [],
   "source": [
    "model = LinearSVC()"
   ]
  },
  {
   "cell_type": "code",
   "execution_count": 266,
   "metadata": {},
   "outputs": [],
   "source": [
    "model_pipe = Pipeline([\n",
    "    ('preprocess', preprocess_pipe),\n",
    "    ('model', model)\n",
    "]\n",
    ")"
   ]
  },
  {
   "cell_type": "code",
   "execution_count": 267,
   "metadata": {},
   "outputs": [],
   "source": [
    "multiout_model_pipe = MultiOutputClassifier(model_pipe, n_jobs=4)"
   ]
  },
  {
   "cell_type": "code",
   "execution_count": 268,
   "metadata": {},
   "outputs": [],
   "source": [
    "from catboost import CatBoostClassifier"
   ]
  },
  {
   "cell_type": "code",
   "execution_count": 269,
   "metadata": {},
   "outputs": [],
   "source": [
    "cat_boost_model = CatBoostClassifier(loss_function='MultiLogloss',\n",
    "                # custom_metric=['Recall', 'F1'],\n",
    "                iterations=2000,\n",
    "                silent=True,\n",
    "                cat_features=CAT_COLS)"
   ]
  },
  {
   "cell_type": "code",
   "execution_count": 270,
   "metadata": {},
   "outputs": [],
   "source": [
    "stack = StackingClassifier([(\"catboost\", cat_boost_model), (\"sk model\", model_pipe)])\n",
    "stack = MultiOutputClassifier(stack, n_jobs=4)"
   ]
  },
  {
   "cell_type": "code",
   "execution_count": 277,
   "metadata": {},
   "outputs": [
    {
     "name": "stderr",
     "output_type": "stream",
     "text": [
      "/home/ebuzanov/.local/lib/python3.8/site-packages/sklearn/svm/_base.py:1225: ConvergenceWarning: Liblinear failed to converge, increase the number of iterations.\n",
      "  warnings.warn(\n",
      "/home/ebuzanov/.local/lib/python3.8/site-packages/sklearn/svm/_base.py:1225: ConvergenceWarning: Liblinear failed to converge, increase the number of iterations.\n",
      "  warnings.warn(\n",
      "/home/ebuzanov/.local/lib/python3.8/site-packages/sklearn/svm/_base.py:1225: ConvergenceWarning: Liblinear failed to converge, increase the number of iterations.\n",
      "  warnings.warn(\n",
      "/home/ebuzanov/.local/lib/python3.8/site-packages/sklearn/svm/_base.py:1225: ConvergenceWarning: Liblinear failed to converge, increase the number of iterations.\n",
      "  warnings.warn(\n",
      "/home/ebuzanov/.local/lib/python3.8/site-packages/sklearn/model_selection/_validation.py:1098: RuntimeWarning: Number of classes in training fold (1) does not match total number of classes (2). Results may not be appropriate for your use case. To fix this, use a cross-validation technique resulting in properly stratified folds\n",
      "  warnings.warn(\n",
      "/home/ebuzanov/.local/lib/python3.8/site-packages/sklearn/model_selection/_validation.py:1098: RuntimeWarning: Number of classes in training fold (1) does not match total number of classes (2). Results may not be appropriate for your use case. To fix this, use a cross-validation technique resulting in properly stratified folds\n",
      "  warnings.warn(\n",
      "/home/ebuzanov/.local/lib/python3.8/site-packages/sklearn/model_selection/_validation.py:1098: RuntimeWarning: Number of classes in training fold (1) does not match total number of classes (2). Results may not be appropriate for your use case. To fix this, use a cross-validation technique resulting in properly stratified folds\n",
      "  warnings.warn(\n",
      "/home/ebuzanov/.local/lib/python3.8/site-packages/sklearn/model_selection/_validation.py:1098: RuntimeWarning: Number of classes in training fold (1) does not match total number of classes (2). Results may not be appropriate for your use case. To fix this, use a cross-validation technique resulting in properly stratified folds\n",
      "  warnings.warn(\n",
      "/home/ebuzanov/.local/lib/python3.8/site-packages/sklearn/svm/_base.py:1225: ConvergenceWarning: Liblinear failed to converge, increase the number of iterations.\n",
      "  warnings.warn(\n",
      "/home/ebuzanov/.local/lib/python3.8/site-packages/sklearn/svm/_base.py:1225: ConvergenceWarning: Liblinear failed to converge, increase the number of iterations.\n",
      "  warnings.warn(\n",
      "/home/ebuzanov/.local/lib/python3.8/site-packages/sklearn/svm/_base.py:1225: ConvergenceWarning: Liblinear failed to converge, increase the number of iterations.\n",
      "  warnings.warn(\n",
      "/home/ebuzanov/.local/lib/python3.8/site-packages/sklearn/model_selection/_validation.py:1098: RuntimeWarning: Number of classes in training fold (1) does not match total number of classes (2). Results may not be appropriate for your use case. To fix this, use a cross-validation technique resulting in properly stratified folds\n",
      "  warnings.warn(\n",
      "/home/ebuzanov/.local/lib/python3.8/site-packages/sklearn/model_selection/_validation.py:1098: RuntimeWarning: Number of classes in training fold (1) does not match total number of classes (2). Results may not be appropriate for your use case. To fix this, use a cross-validation technique resulting in properly stratified folds\n",
      "  warnings.warn(\n",
      "/home/ebuzanov/.local/lib/python3.8/site-packages/sklearn/model_selection/_validation.py:1098: RuntimeWarning: Number of classes in training fold (1) does not match total number of classes (2). Results may not be appropriate for your use case. To fix this, use a cross-validation technique resulting in properly stratified folds\n",
      "  warnings.warn(\n",
      "/home/ebuzanov/.local/lib/python3.8/site-packages/sklearn/model_selection/_validation.py:1098: RuntimeWarning: Number of classes in training fold (1) does not match total number of classes (2). Results may not be appropriate for your use case. To fix this, use a cross-validation technique resulting in properly stratified folds\n",
      "  warnings.warn(\n",
      "/home/ebuzanov/.local/lib/python3.8/site-packages/sklearn/svm/_base.py:1225: ConvergenceWarning: Liblinear failed to converge, increase the number of iterations.\n",
      "  warnings.warn(\n",
      "/home/ebuzanov/.local/lib/python3.8/site-packages/sklearn/svm/_base.py:1225: ConvergenceWarning: Liblinear failed to converge, increase the number of iterations.\n",
      "  warnings.warn(\n",
      "/home/ebuzanov/.local/lib/python3.8/site-packages/sklearn/svm/_base.py:1225: ConvergenceWarning: Liblinear failed to converge, increase the number of iterations.\n",
      "  warnings.warn(\n",
      "/home/ebuzanov/.local/lib/python3.8/site-packages/sklearn/svm/_base.py:1225: ConvergenceWarning: Liblinear failed to converge, increase the number of iterations.\n",
      "  warnings.warn(\n",
      "/home/ebuzanov/.local/lib/python3.8/site-packages/sklearn/model_selection/_validation.py:1098: RuntimeWarning: Number of classes in training fold (1) does not match total number of classes (2). Results may not be appropriate for your use case. To fix this, use a cross-validation technique resulting in properly stratified folds\n",
      "  warnings.warn(\n",
      "/home/ebuzanov/.local/lib/python3.8/site-packages/sklearn/model_selection/_validation.py:1098: RuntimeWarning: Number of classes in training fold (1) does not match total number of classes (2). Results may not be appropriate for your use case. To fix this, use a cross-validation technique resulting in properly stratified folds\n",
      "  warnings.warn(\n",
      "/home/ebuzanov/.local/lib/python3.8/site-packages/sklearn/model_selection/_validation.py:1098: RuntimeWarning: Number of classes in training fold (1) does not match total number of classes (2). Results may not be appropriate for your use case. To fix this, use a cross-validation technique resulting in properly stratified folds\n",
      "  warnings.warn(\n",
      "/home/ebuzanov/.local/lib/python3.8/site-packages/sklearn/model_selection/_validation.py:1098: RuntimeWarning: Number of classes in training fold (1) does not match total number of classes (2). Results may not be appropriate for your use case. To fix this, use a cross-validation technique resulting in properly stratified folds\n",
      "  warnings.warn(\n"
     ]
    },
    {
     "ename": "ValueError",
     "evalue": "\nAll the 3 fits failed.\nIt is very likely that your model is misconfigured.\nYou can try to debug the error by setting error_score='raise'.\n\nBelow are more details about the failures:\n--------------------------------------------------------------------------------\n3 fits failed with the following error:\njoblib.externals.loky.process_executor._RemoteTraceback: \n\"\"\"\nTraceback (most recent call last):\n  File \"/home/ebuzanov/.local/lib/python3.8/site-packages/joblib/externals/loky/process_executor.py\", line 428, in _process_worker\n    r = call_item()\n  File \"/home/ebuzanov/.local/lib/python3.8/site-packages/joblib/externals/loky/process_executor.py\", line 275, in __call__\n    return self.fn(*self.args, **self.kwargs)\n  File \"/home/ebuzanov/.local/lib/python3.8/site-packages/joblib/_parallel_backends.py\", line 620, in __call__\n    return self.func(*args, **kwargs)\n  File \"/home/ebuzanov/.local/lib/python3.8/site-packages/joblib/parallel.py\", line 288, in __call__\n    return [func(*args, **kwargs)\n  File \"/home/ebuzanov/.local/lib/python3.8/site-packages/joblib/parallel.py\", line 288, in <listcomp>\n    return [func(*args, **kwargs)\n  File \"/home/ebuzanov/.local/lib/python3.8/site-packages/sklearn/utils/fixes.py\", line 117, in __call__\n    return self.function(*args, **kwargs)\n  File \"/home/ebuzanov/.local/lib/python3.8/site-packages/sklearn/multioutput.py\", line 44, in _fit_estimator\n    estimator.fit(X, y, **fit_params)\n  File \"/home/ebuzanov/.local/lib/python3.8/site-packages/sklearn/ensemble/_stacking.py\", line 584, in fit\n    return super().fit(X, self._le.transform(y), sample_weight)\n  File \"/home/ebuzanov/.local/lib/python3.8/site-packages/sklearn/ensemble/_stacking.py\", line 232, in fit\n    predictions = Parallel(n_jobs=self.n_jobs)(\n  File \"/home/ebuzanov/.local/lib/python3.8/site-packages/joblib/parallel.py\", line 1085, in __call__\n    if self.dispatch_one_batch(iterator):\n  File \"/home/ebuzanov/.local/lib/python3.8/site-packages/joblib/parallel.py\", line 901, in dispatch_one_batch\n    self._dispatch(tasks)\n  File \"/home/ebuzanov/.local/lib/python3.8/site-packages/joblib/parallel.py\", line 819, in _dispatch\n    job = self._backend.apply_async(batch, callback=cb)\n  File \"/home/ebuzanov/.local/lib/python3.8/site-packages/joblib/_parallel_backends.py\", line 208, in apply_async\n    result = ImmediateResult(func)\n  File \"/home/ebuzanov/.local/lib/python3.8/site-packages/joblib/_parallel_backends.py\", line 597, in __init__\n    self.results = batch()\n  File \"/home/ebuzanov/.local/lib/python3.8/site-packages/joblib/parallel.py\", line 288, in __call__\n    return [func(*args, **kwargs)\n  File \"/home/ebuzanov/.local/lib/python3.8/site-packages/joblib/parallel.py\", line 288, in <listcomp>\n    return [func(*args, **kwargs)\n  File \"/home/ebuzanov/.local/lib/python3.8/site-packages/sklearn/utils/fixes.py\", line 117, in __call__\n    return self.function(*args, **kwargs)\n  File \"/home/ebuzanov/.local/lib/python3.8/site-packages/sklearn/model_selection/_validation.py\", line 968, in cross_val_predict\n    predictions = parallel(\n  File \"/home/ebuzanov/.local/lib/python3.8/site-packages/joblib/parallel.py\", line 1085, in __call__\n    if self.dispatch_one_batch(iterator):\n  File \"/home/ebuzanov/.local/lib/python3.8/site-packages/joblib/parallel.py\", line 901, in dispatch_one_batch\n    self._dispatch(tasks)\n  File \"/home/ebuzanov/.local/lib/python3.8/site-packages/joblib/parallel.py\", line 819, in _dispatch\n    job = self._backend.apply_async(batch, callback=cb)\n  File \"/home/ebuzanov/.local/lib/python3.8/site-packages/joblib/_parallel_backends.py\", line 208, in apply_async\n    result = ImmediateResult(func)\n  File \"/home/ebuzanov/.local/lib/python3.8/site-packages/joblib/_parallel_backends.py\", line 597, in __init__\n    self.results = batch()\n  File \"/home/ebuzanov/.local/lib/python3.8/site-packages/joblib/parallel.py\", line 288, in __call__\n    return [func(*args, **kwargs)\n  File \"/home/ebuzanov/.local/lib/python3.8/site-packages/joblib/parallel.py\", line 288, in <listcomp>\n    return [func(*args, **kwargs)\n  File \"/home/ebuzanov/.local/lib/python3.8/site-packages/sklearn/utils/fixes.py\", line 117, in __call__\n    return self.function(*args, **kwargs)\n  File \"/home/ebuzanov/.local/lib/python3.8/site-packages/sklearn/model_selection/_validation.py\", line 1073, in _fit_and_predict\n    predictions = _enforce_prediction_order(\n  File \"/home/ebuzanov/.local/lib/python3.8/site-packages/sklearn/model_selection/_validation.py\", line 1140, in _enforce_prediction_order\n    predictions_for_all_classes[:, classes] = predictions\nValueError: shape mismatch: value array of shape (128,2) could not be broadcast to indexing result of shape (128,1)\n\"\"\"\n\nThe above exception was the direct cause of the following exception:\n\nTraceback (most recent call last):\n  File \"/home/ebuzanov/.local/lib/python3.8/site-packages/sklearn/model_selection/_validation.py\", line 686, in _fit_and_score\n    estimator.fit(X_train, y_train, **fit_params)\n  File \"/home/ebuzanov/.local/lib/python3.8/site-packages/sklearn/multioutput.py\", line 435, in fit\n    super().fit(X, Y, sample_weight, **fit_params)\n  File \"/home/ebuzanov/.local/lib/python3.8/site-packages/sklearn/multioutput.py\", line 202, in fit\n    self.estimators_ = Parallel(n_jobs=self.n_jobs)(\n  File \"/home/ebuzanov/.local/lib/python3.8/site-packages/joblib/parallel.py\", line 1098, in __call__\n    self.retrieve()\n  File \"/home/ebuzanov/.local/lib/python3.8/site-packages/joblib/parallel.py\", line 975, in retrieve\n    self._output.extend(job.get(timeout=self.timeout))\n  File \"/home/ebuzanov/.local/lib/python3.8/site-packages/joblib/_parallel_backends.py\", line 567, in wrap_future_result\n    return future.result(timeout=timeout)\n  File \"/usr/lib/python3.8/concurrent/futures/_base.py\", line 444, in result\n    return self.__get_result()\n  File \"/usr/lib/python3.8/concurrent/futures/_base.py\", line 389, in __get_result\n    raise self._exception\nValueError: shape mismatch: value array of shape (128,2) could not be broadcast to indexing result of shape (128,1)\n",
     "output_type": "error",
     "traceback": [
      "\u001b[0;31m---------------------------------------------------------------------------\u001b[0m",
      "\u001b[0;31mValueError\u001b[0m                                Traceback (most recent call last)",
      "\u001b[1;32m/home/ebuzanov/DataAnalysisClassificationLab/notebooks/test2.ipynb Cell 20'\u001b[0m in \u001b[0;36m<cell line: 1>\u001b[0;34m()\u001b[0m\n\u001b[0;32m----> <a href='vscode-notebook-cell://wsl%2Bubuntu/home/ebuzanov/DataAnalysisClassificationLab/notebooks/test2.ipynb#ch0000020vscode-remote?line=0'>1</a>\u001b[0m scores \u001b[39m=\u001b[39m cross_val_score(\n\u001b[1;32m      <a href='vscode-notebook-cell://wsl%2Bubuntu/home/ebuzanov/DataAnalysisClassificationLab/notebooks/test2.ipynb#ch0000020vscode-remote?line=1'>2</a>\u001b[0m     estimator\u001b[39m=\u001b[39;49mstack,\n\u001b[1;32m      <a href='vscode-notebook-cell://wsl%2Bubuntu/home/ebuzanov/DataAnalysisClassificationLab/notebooks/test2.ipynb#ch0000020vscode-remote?line=2'>3</a>\u001b[0m     X\u001b[39m=\u001b[39;49mtrain,\n\u001b[1;32m      <a href='vscode-notebook-cell://wsl%2Bubuntu/home/ebuzanov/DataAnalysisClassificationLab/notebooks/test2.ipynb#ch0000020vscode-remote?line=3'>4</a>\u001b[0m     y\u001b[39m=\u001b[39;49mtarget,\n\u001b[1;32m      <a href='vscode-notebook-cell://wsl%2Bubuntu/home/ebuzanov/DataAnalysisClassificationLab/notebooks/test2.ipynb#ch0000020vscode-remote?line=4'>5</a>\u001b[0m     scoring\u001b[39m=\u001b[39;49m\u001b[39m'\u001b[39;49m\u001b[39mf1_samples\u001b[39;49m\u001b[39m'\u001b[39;49m,\n\u001b[1;32m      <a href='vscode-notebook-cell://wsl%2Bubuntu/home/ebuzanov/DataAnalysisClassificationLab/notebooks/test2.ipynb#ch0000020vscode-remote?line=5'>6</a>\u001b[0m     cv\u001b[39m=\u001b[39;49m\u001b[39m3\u001b[39;49m,\n\u001b[1;32m      <a href='vscode-notebook-cell://wsl%2Bubuntu/home/ebuzanov/DataAnalysisClassificationLab/notebooks/test2.ipynb#ch0000020vscode-remote?line=6'>7</a>\u001b[0m     n_jobs\u001b[39m=\u001b[39;49m\u001b[39m1\u001b[39;49m\n\u001b[1;32m      <a href='vscode-notebook-cell://wsl%2Bubuntu/home/ebuzanov/DataAnalysisClassificationLab/notebooks/test2.ipynb#ch0000020vscode-remote?line=7'>8</a>\u001b[0m )\n",
      "File \u001b[0;32m~/.local/lib/python3.8/site-packages/sklearn/model_selection/_validation.py:515\u001b[0m, in \u001b[0;36mcross_val_score\u001b[0;34m(estimator, X, y, groups, scoring, cv, n_jobs, verbose, fit_params, pre_dispatch, error_score)\u001b[0m\n\u001b[1;32m    512\u001b[0m \u001b[39m# To ensure multimetric format is not supported\u001b[39;00m\n\u001b[1;32m    513\u001b[0m scorer \u001b[39m=\u001b[39m check_scoring(estimator, scoring\u001b[39m=\u001b[39mscoring)\n\u001b[0;32m--> 515\u001b[0m cv_results \u001b[39m=\u001b[39m cross_validate(\n\u001b[1;32m    516\u001b[0m     estimator\u001b[39m=\u001b[39;49mestimator,\n\u001b[1;32m    517\u001b[0m     X\u001b[39m=\u001b[39;49mX,\n\u001b[1;32m    518\u001b[0m     y\u001b[39m=\u001b[39;49my,\n\u001b[1;32m    519\u001b[0m     groups\u001b[39m=\u001b[39;49mgroups,\n\u001b[1;32m    520\u001b[0m     scoring\u001b[39m=\u001b[39;49m{\u001b[39m\"\u001b[39;49m\u001b[39mscore\u001b[39;49m\u001b[39m\"\u001b[39;49m: scorer},\n\u001b[1;32m    521\u001b[0m     cv\u001b[39m=\u001b[39;49mcv,\n\u001b[1;32m    522\u001b[0m     n_jobs\u001b[39m=\u001b[39;49mn_jobs,\n\u001b[1;32m    523\u001b[0m     verbose\u001b[39m=\u001b[39;49mverbose,\n\u001b[1;32m    524\u001b[0m     fit_params\u001b[39m=\u001b[39;49mfit_params,\n\u001b[1;32m    525\u001b[0m     pre_dispatch\u001b[39m=\u001b[39;49mpre_dispatch,\n\u001b[1;32m    526\u001b[0m     error_score\u001b[39m=\u001b[39;49merror_score,\n\u001b[1;32m    527\u001b[0m )\n\u001b[1;32m    528\u001b[0m \u001b[39mreturn\u001b[39;00m cv_results[\u001b[39m\"\u001b[39m\u001b[39mtest_score\u001b[39m\u001b[39m\"\u001b[39m]\n",
      "File \u001b[0;32m~/.local/lib/python3.8/site-packages/sklearn/model_selection/_validation.py:285\u001b[0m, in \u001b[0;36mcross_validate\u001b[0;34m(estimator, X, y, groups, scoring, cv, n_jobs, verbose, fit_params, pre_dispatch, return_train_score, return_estimator, error_score)\u001b[0m\n\u001b[1;32m    265\u001b[0m parallel \u001b[39m=\u001b[39m Parallel(n_jobs\u001b[39m=\u001b[39mn_jobs, verbose\u001b[39m=\u001b[39mverbose, pre_dispatch\u001b[39m=\u001b[39mpre_dispatch)\n\u001b[1;32m    266\u001b[0m results \u001b[39m=\u001b[39m parallel(\n\u001b[1;32m    267\u001b[0m     delayed(_fit_and_score)(\n\u001b[1;32m    268\u001b[0m         clone(estimator),\n\u001b[0;32m   (...)\u001b[0m\n\u001b[1;32m    282\u001b[0m     \u001b[39mfor\u001b[39;00m train, test \u001b[39min\u001b[39;00m cv\u001b[39m.\u001b[39msplit(X, y, groups)\n\u001b[1;32m    283\u001b[0m )\n\u001b[0;32m--> 285\u001b[0m _warn_or_raise_about_fit_failures(results, error_score)\n\u001b[1;32m    287\u001b[0m \u001b[39m# For callabe scoring, the return type is only know after calling. If the\u001b[39;00m\n\u001b[1;32m    288\u001b[0m \u001b[39m# return type is a dictionary, the error scores can now be inserted with\u001b[39;00m\n\u001b[1;32m    289\u001b[0m \u001b[39m# the correct key.\u001b[39;00m\n\u001b[1;32m    290\u001b[0m \u001b[39mif\u001b[39;00m callable(scoring):\n",
      "File \u001b[0;32m~/.local/lib/python3.8/site-packages/sklearn/model_selection/_validation.py:367\u001b[0m, in \u001b[0;36m_warn_or_raise_about_fit_failures\u001b[0;34m(results, error_score)\u001b[0m\n\u001b[1;32m    360\u001b[0m \u001b[39mif\u001b[39;00m num_failed_fits \u001b[39m==\u001b[39m num_fits:\n\u001b[1;32m    361\u001b[0m     all_fits_failed_message \u001b[39m=\u001b[39m (\n\u001b[1;32m    362\u001b[0m         \u001b[39mf\u001b[39m\u001b[39m\"\u001b[39m\u001b[39m\\n\u001b[39;00m\u001b[39mAll the \u001b[39m\u001b[39m{\u001b[39;00mnum_fits\u001b[39m}\u001b[39;00m\u001b[39m fits failed.\u001b[39m\u001b[39m\\n\u001b[39;00m\u001b[39m\"\u001b[39m\n\u001b[1;32m    363\u001b[0m         \u001b[39m\"\u001b[39m\u001b[39mIt is very likely that your model is misconfigured.\u001b[39m\u001b[39m\\n\u001b[39;00m\u001b[39m\"\u001b[39m\n\u001b[1;32m    364\u001b[0m         \u001b[39m\"\u001b[39m\u001b[39mYou can try to debug the error by setting error_score=\u001b[39m\u001b[39m'\u001b[39m\u001b[39mraise\u001b[39m\u001b[39m'\u001b[39m\u001b[39m.\u001b[39m\u001b[39m\\n\u001b[39;00m\u001b[39m\\n\u001b[39;00m\u001b[39m\"\u001b[39m\n\u001b[1;32m    365\u001b[0m         \u001b[39mf\u001b[39m\u001b[39m\"\u001b[39m\u001b[39mBelow are more details about the failures:\u001b[39m\u001b[39m\\n\u001b[39;00m\u001b[39m{\u001b[39;00mfit_errors_summary\u001b[39m}\u001b[39;00m\u001b[39m\"\u001b[39m\n\u001b[1;32m    366\u001b[0m     )\n\u001b[0;32m--> 367\u001b[0m     \u001b[39mraise\u001b[39;00m \u001b[39mValueError\u001b[39;00m(all_fits_failed_message)\n\u001b[1;32m    369\u001b[0m \u001b[39melse\u001b[39;00m:\n\u001b[1;32m    370\u001b[0m     some_fits_failed_message \u001b[39m=\u001b[39m (\n\u001b[1;32m    371\u001b[0m         \u001b[39mf\u001b[39m\u001b[39m\"\u001b[39m\u001b[39m\\n\u001b[39;00m\u001b[39m{\u001b[39;00mnum_failed_fits\u001b[39m}\u001b[39;00m\u001b[39m fits failed out of a total of \u001b[39m\u001b[39m{\u001b[39;00mnum_fits\u001b[39m}\u001b[39;00m\u001b[39m.\u001b[39m\u001b[39m\\n\u001b[39;00m\u001b[39m\"\u001b[39m\n\u001b[1;32m    372\u001b[0m         \u001b[39m\"\u001b[39m\u001b[39mThe score on these train-test partitions for these parameters\u001b[39m\u001b[39m\"\u001b[39m\n\u001b[0;32m   (...)\u001b[0m\n\u001b[1;32m    376\u001b[0m         \u001b[39mf\u001b[39m\u001b[39m\"\u001b[39m\u001b[39mBelow are more details about the failures:\u001b[39m\u001b[39m\\n\u001b[39;00m\u001b[39m{\u001b[39;00mfit_errors_summary\u001b[39m}\u001b[39;00m\u001b[39m\"\u001b[39m\n\u001b[1;32m    377\u001b[0m     )\n",
      "\u001b[0;31mValueError\u001b[0m: \nAll the 3 fits failed.\nIt is very likely that your model is misconfigured.\nYou can try to debug the error by setting error_score='raise'.\n\nBelow are more details about the failures:\n--------------------------------------------------------------------------------\n3 fits failed with the following error:\njoblib.externals.loky.process_executor._RemoteTraceback: \n\"\"\"\nTraceback (most recent call last):\n  File \"/home/ebuzanov/.local/lib/python3.8/site-packages/joblib/externals/loky/process_executor.py\", line 428, in _process_worker\n    r = call_item()\n  File \"/home/ebuzanov/.local/lib/python3.8/site-packages/joblib/externals/loky/process_executor.py\", line 275, in __call__\n    return self.fn(*self.args, **self.kwargs)\n  File \"/home/ebuzanov/.local/lib/python3.8/site-packages/joblib/_parallel_backends.py\", line 620, in __call__\n    return self.func(*args, **kwargs)\n  File \"/home/ebuzanov/.local/lib/python3.8/site-packages/joblib/parallel.py\", line 288, in __call__\n    return [func(*args, **kwargs)\n  File \"/home/ebuzanov/.local/lib/python3.8/site-packages/joblib/parallel.py\", line 288, in <listcomp>\n    return [func(*args, **kwargs)\n  File \"/home/ebuzanov/.local/lib/python3.8/site-packages/sklearn/utils/fixes.py\", line 117, in __call__\n    return self.function(*args, **kwargs)\n  File \"/home/ebuzanov/.local/lib/python3.8/site-packages/sklearn/multioutput.py\", line 44, in _fit_estimator\n    estimator.fit(X, y, **fit_params)\n  File \"/home/ebuzanov/.local/lib/python3.8/site-packages/sklearn/ensemble/_stacking.py\", line 584, in fit\n    return super().fit(X, self._le.transform(y), sample_weight)\n  File \"/home/ebuzanov/.local/lib/python3.8/site-packages/sklearn/ensemble/_stacking.py\", line 232, in fit\n    predictions = Parallel(n_jobs=self.n_jobs)(\n  File \"/home/ebuzanov/.local/lib/python3.8/site-packages/joblib/parallel.py\", line 1085, in __call__\n    if self.dispatch_one_batch(iterator):\n  File \"/home/ebuzanov/.local/lib/python3.8/site-packages/joblib/parallel.py\", line 901, in dispatch_one_batch\n    self._dispatch(tasks)\n  File \"/home/ebuzanov/.local/lib/python3.8/site-packages/joblib/parallel.py\", line 819, in _dispatch\n    job = self._backend.apply_async(batch, callback=cb)\n  File \"/home/ebuzanov/.local/lib/python3.8/site-packages/joblib/_parallel_backends.py\", line 208, in apply_async\n    result = ImmediateResult(func)\n  File \"/home/ebuzanov/.local/lib/python3.8/site-packages/joblib/_parallel_backends.py\", line 597, in __init__\n    self.results = batch()\n  File \"/home/ebuzanov/.local/lib/python3.8/site-packages/joblib/parallel.py\", line 288, in __call__\n    return [func(*args, **kwargs)\n  File \"/home/ebuzanov/.local/lib/python3.8/site-packages/joblib/parallel.py\", line 288, in <listcomp>\n    return [func(*args, **kwargs)\n  File \"/home/ebuzanov/.local/lib/python3.8/site-packages/sklearn/utils/fixes.py\", line 117, in __call__\n    return self.function(*args, **kwargs)\n  File \"/home/ebuzanov/.local/lib/python3.8/site-packages/sklearn/model_selection/_validation.py\", line 968, in cross_val_predict\n    predictions = parallel(\n  File \"/home/ebuzanov/.local/lib/python3.8/site-packages/joblib/parallel.py\", line 1085, in __call__\n    if self.dispatch_one_batch(iterator):\n  File \"/home/ebuzanov/.local/lib/python3.8/site-packages/joblib/parallel.py\", line 901, in dispatch_one_batch\n    self._dispatch(tasks)\n  File \"/home/ebuzanov/.local/lib/python3.8/site-packages/joblib/parallel.py\", line 819, in _dispatch\n    job = self._backend.apply_async(batch, callback=cb)\n  File \"/home/ebuzanov/.local/lib/python3.8/site-packages/joblib/_parallel_backends.py\", line 208, in apply_async\n    result = ImmediateResult(func)\n  File \"/home/ebuzanov/.local/lib/python3.8/site-packages/joblib/_parallel_backends.py\", line 597, in __init__\n    self.results = batch()\n  File \"/home/ebuzanov/.local/lib/python3.8/site-packages/joblib/parallel.py\", line 288, in __call__\n    return [func(*args, **kwargs)\n  File \"/home/ebuzanov/.local/lib/python3.8/site-packages/joblib/parallel.py\", line 288, in <listcomp>\n    return [func(*args, **kwargs)\n  File \"/home/ebuzanov/.local/lib/python3.8/site-packages/sklearn/utils/fixes.py\", line 117, in __call__\n    return self.function(*args, **kwargs)\n  File \"/home/ebuzanov/.local/lib/python3.8/site-packages/sklearn/model_selection/_validation.py\", line 1073, in _fit_and_predict\n    predictions = _enforce_prediction_order(\n  File \"/home/ebuzanov/.local/lib/python3.8/site-packages/sklearn/model_selection/_validation.py\", line 1140, in _enforce_prediction_order\n    predictions_for_all_classes[:, classes] = predictions\nValueError: shape mismatch: value array of shape (128,2) could not be broadcast to indexing result of shape (128,1)\n\"\"\"\n\nThe above exception was the direct cause of the following exception:\n\nTraceback (most recent call last):\n  File \"/home/ebuzanov/.local/lib/python3.8/site-packages/sklearn/model_selection/_validation.py\", line 686, in _fit_and_score\n    estimator.fit(X_train, y_train, **fit_params)\n  File \"/home/ebuzanov/.local/lib/python3.8/site-packages/sklearn/multioutput.py\", line 435, in fit\n    super().fit(X, Y, sample_weight, **fit_params)\n  File \"/home/ebuzanov/.local/lib/python3.8/site-packages/sklearn/multioutput.py\", line 202, in fit\n    self.estimators_ = Parallel(n_jobs=self.n_jobs)(\n  File \"/home/ebuzanov/.local/lib/python3.8/site-packages/joblib/parallel.py\", line 1098, in __call__\n    self.retrieve()\n  File \"/home/ebuzanov/.local/lib/python3.8/site-packages/joblib/parallel.py\", line 975, in retrieve\n    self._output.extend(job.get(timeout=self.timeout))\n  File \"/home/ebuzanov/.local/lib/python3.8/site-packages/joblib/_parallel_backends.py\", line 567, in wrap_future_result\n    return future.result(timeout=timeout)\n  File \"/usr/lib/python3.8/concurrent/futures/_base.py\", line 444, in result\n    return self.__get_result()\n  File \"/usr/lib/python3.8/concurrent/futures/_base.py\", line 389, in __get_result\n    raise self._exception\nValueError: shape mismatch: value array of shape (128,2) could not be broadcast to indexing result of shape (128,1)\n"
     ]
    }
   ],
   "source": [
    "scores = cross_val_score(\n",
    "    estimator=stack,\n",
    "    X=train,\n",
    "    y=target,\n",
    "    scoring='f1_samples',\n",
    "    cv=3,\n",
    "    n_jobs=1\n",
    ")"
   ]
  },
  {
   "cell_type": "code",
   "execution_count": 278,
   "metadata": {},
   "outputs": [
    {
     "ename": "NameError",
     "evalue": "name 'scores' is not defined",
     "output_type": "error",
     "traceback": [
      "\u001b[0;31m---------------------------------------------------------------------------\u001b[0m",
      "\u001b[0;31mNameError\u001b[0m                                 Traceback (most recent call last)",
      "\u001b[1;32m/home/ebuzanov/DataAnalysisClassificationLab/notebooks/test2.ipynb Cell 21'\u001b[0m in \u001b[0;36m<cell line: 1>\u001b[0;34m()\u001b[0m\n\u001b[0;32m----> <a href='vscode-notebook-cell://wsl%2Bubuntu/home/ebuzanov/DataAnalysisClassificationLab/notebooks/test2.ipynb#ch0000021vscode-remote?line=0'>1</a>\u001b[0m scores\n",
      "\u001b[0;31mNameError\u001b[0m: name 'scores' is not defined"
     ]
    }
   ],
   "source": [
    "scores"
   ]
  },
  {
   "cell_type": "code",
   "execution_count": null,
   "metadata": {},
   "outputs": [],
   "source": []
  }
 ],
 "metadata": {
  "kernelspec": {
   "display_name": "Python 3.8.10 64-bit",
   "language": "python",
   "name": "python3"
  },
  "language_info": {
   "codemirror_mode": {
    "name": "ipython",
    "version": 3
   },
   "file_extension": ".py",
   "mimetype": "text/x-python",
   "name": "python",
   "nbconvert_exporter": "python",
   "pygments_lexer": "ipython3",
   "version": "3.8.10"
  },
  "orig_nbformat": 4,
  "vscode": {
   "interpreter": {
    "hash": "916dbcbb3f70747c44a77c7bcd40155683ae19c65e1c03b4aa3499c5328201f1"
   }
  }
 },
 "nbformat": 4,
 "nbformat_minor": 2
}
